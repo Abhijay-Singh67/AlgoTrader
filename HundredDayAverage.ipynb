{
  "nbformat": 4,
  "nbformat_minor": 0,
  "metadata": {
    "colab": {
      "provenance": [],
      "gpuType": "T4"
    },
    "kernelspec": {
      "name": "python3",
      "display_name": "Python 3"
    },
    "language_info": {
      "name": "python"
    },
    "accelerator": "GPU"
  },
  "cells": [
    {
      "cell_type": "code",
      "source": [
        "from tensorflow.keras.models import load_model\n",
        "import pandas as pd\n",
        "import numpy as np\n",
        "# Load the Keras model\n",
        "model = load_model('HundredDayAverageModel1.keras')"
      ],
      "metadata": {
        "id": "fItB3bPBj7Pj"
      },
      "execution_count": 48,
      "outputs": []
    },
    {
      "cell_type": "code",
      "source": [
        "data1 = pd.read_csv('/content/TSLA_data.csv')\n",
        "data2 = pd.read_csv('/content/PG_data.csv')\n",
        "data3 = pd.read_csv('/content/V_data.csv')"
      ],
      "metadata": {
        "id": "Z2xAiXJmkTBh"
      },
      "execution_count": 49,
      "outputs": []
    },
    {
      "cell_type": "code",
      "source": [
        "# copying the data\n",
        "data_min_max_scaled = data1.copy()\n",
        "\n",
        "# applying normalization techniques\n",
        "for column in data_min_max_scaled.columns:\n",
        "  if column in ['Volume','Open','High','Low','Close']:\n",
        "    data_min_max_scaled[column] = (data_min_max_scaled[column] - data_min_max_scaled[column].min()) / (data_min_max_scaled[column].max() - data_min_max_scaled[column].min())\n",
        "data1 = data_min_max_scaled"
      ],
      "metadata": {
        "id": "4cg9CIiQkd3L"
      },
      "execution_count": 50,
      "outputs": []
    },
    {
      "cell_type": "code",
      "source": [
        "# copying the data\n",
        "data_min_max_scaled = data2.copy()\n",
        "\n",
        "# applying normalization techniques\n",
        "for column in data_min_max_scaled.columns:\n",
        "  if column in ['Volume','Open','High','Low','Close']:\n",
        "    data_min_max_scaled[column] = (data_min_max_scaled[column] - data_min_max_scaled[column].min()) / (data_min_max_scaled[column].max() - data_min_max_scaled[column].min())\n",
        "data2 = data_min_max_scaled"
      ],
      "metadata": {
        "id": "Z7Izwwy-kfwZ"
      },
      "execution_count": 51,
      "outputs": []
    },
    {
      "cell_type": "code",
      "source": [
        "# copying the data\n",
        "data_min_max_scaled = data3.copy()\n",
        "\n",
        "# applying normalization techniques\n",
        "for column in data_min_max_scaled.columns:\n",
        "  if column in ['Volume','Open','High','Low','Close']:\n",
        "    data_min_max_scaled[column] = (data_min_max_scaled[column] - data_min_max_scaled[column].min()) / (data_min_max_scaled[column].max() - data_min_max_scaled[column].min())\n",
        "data3 = data_min_max_scaled"
      ],
      "metadata": {
        "id": "BtSekuFnkhWa"
      },
      "execution_count": 52,
      "outputs": []
    },
    {
      "cell_type": "code",
      "source": [
        "data1arr = np.array(data1.drop(columns=['Label','TEN','HUNDREAD']))\n",
        "data2arr = np.array(data2.drop(columns=['Label','TEN','HUNDREAD']))\n",
        "data3arr = np.array(data3.drop(columns=['Label','TEN','HUNDREAD']))"
      ],
      "metadata": {
        "id": "wHxJxrOnkjaa"
      },
      "execution_count": 53,
      "outputs": []
    },
    {
      "cell_type": "code",
      "source": [
        "data = []\n",
        "temp = []\n",
        "for i in range(0,len(data1arr)-100):\n",
        "  for j in range(0,100):\n",
        "    temp.append(data1arr[i+j])\n",
        "  data.append(temp)\n",
        "  temp = []\n",
        "data_Arr1 = np.array(data)"
      ],
      "metadata": {
        "id": "qrbAGrNhkluF"
      },
      "execution_count": 54,
      "outputs": []
    },
    {
      "cell_type": "code",
      "source": [
        "data = []\n",
        "temp = []\n",
        "for i in range(0,len(data2arr)-100):\n",
        "  for j in range(0,100):\n",
        "    temp.append(data2arr[i+j])\n",
        "  data.append(temp)\n",
        "  temp = []\n",
        "data_Arr2 = np.array(data)"
      ],
      "metadata": {
        "id": "EqZpKQxBkooQ"
      },
      "execution_count": 55,
      "outputs": []
    },
    {
      "cell_type": "code",
      "source": [
        "data = []\n",
        "temp = []\n",
        "for i in range(0,len(data3arr)-100):\n",
        "  for j in range(0,100):\n",
        "    temp.append(data3arr[i+j])\n",
        "  data.append(temp)\n",
        "  temp = []\n",
        "data_Arr3 = np.array(data)"
      ],
      "metadata": {
        "id": "xGxBkvk0krKS"
      },
      "execution_count": 56,
      "outputs": []
    },
    {
      "cell_type": "code",
      "source": [
        "np.shape(data_Arr1)"
      ],
      "metadata": {
        "colab": {
          "base_uri": "https://localhost:8080/"
        },
        "id": "laOtJZ8skwQM",
        "outputId": "37d31291-a32c-445f-ece8-ea542c170c76"
      },
      "execution_count": 57,
      "outputs": [
        {
          "output_type": "execute_result",
          "data": {
            "text/plain": [
              "(3300, 100, 5)"
            ]
          },
          "metadata": {},
          "execution_count": 57
        }
      ]
    },
    {
      "cell_type": "code",
      "source": [
        "np.shape(data_Arr2)"
      ],
      "metadata": {
        "colab": {
          "base_uri": "https://localhost:8080/"
        },
        "id": "VVg7W4-WkzeB",
        "outputId": "692ccf60-2ccb-42c3-cb96-88b735eb72df"
      },
      "execution_count": 58,
      "outputs": [
        {
          "output_type": "execute_result",
          "data": {
            "text/plain": [
              "(5937, 100, 5)"
            ]
          },
          "metadata": {},
          "execution_count": 58
        }
      ]
    },
    {
      "cell_type": "code",
      "source": [
        "np.shape(data_Arr3)"
      ],
      "metadata": {
        "colab": {
          "base_uri": "https://localhost:8080/"
        },
        "id": "JcfkOu63k095",
        "outputId": "08c377a7-e3ee-4596-e4bc-6f2dfa7f3b8a"
      },
      "execution_count": 59,
      "outputs": [
        {
          "output_type": "execute_result",
          "data": {
            "text/plain": [
              "(3874, 100, 5)"
            ]
          },
          "metadata": {},
          "execution_count": 59
        }
      ]
    },
    {
      "cell_type": "code",
      "source": [
        "data_Val1 = np.array(data1['HUNDREAD'])\n",
        "data_Val1 = data_Val1[100:]"
      ],
      "metadata": {
        "id": "R8RHBvCwk1qm"
      },
      "execution_count": 60,
      "outputs": []
    },
    {
      "cell_type": "code",
      "source": [
        "data_Val2 = np.array(data2['HUNDREAD'])\n",
        "data_Val2 = data_Val2[100:]"
      ],
      "metadata": {
        "id": "6Xkt4vUPk81X"
      },
      "execution_count": 61,
      "outputs": []
    },
    {
      "cell_type": "code",
      "source": [
        "data_Val3 = np.array(data3['HUNDREAD'])\n",
        "data_Val3 = data_Val3[100:]"
      ],
      "metadata": {
        "id": "l9m6yPWJk868"
      },
      "execution_count": 62,
      "outputs": []
    },
    {
      "cell_type": "code",
      "source": [
        "np.shape(data_Val1)"
      ],
      "metadata": {
        "colab": {
          "base_uri": "https://localhost:8080/"
        },
        "id": "idBsIZqYlCOQ",
        "outputId": "c031a083-c529-4a10-b076-103aa696105f"
      },
      "execution_count": 63,
      "outputs": [
        {
          "output_type": "execute_result",
          "data": {
            "text/plain": [
              "(3300,)"
            ]
          },
          "metadata": {},
          "execution_count": 63
        }
      ]
    },
    {
      "cell_type": "code",
      "source": [
        "np.shape(data_Val2)"
      ],
      "metadata": {
        "colab": {
          "base_uri": "https://localhost:8080/"
        },
        "id": "361lCgHJlGiP",
        "outputId": "6209946e-9d7f-43e4-a875-65d2d1fa9df0"
      },
      "execution_count": 64,
      "outputs": [
        {
          "output_type": "execute_result",
          "data": {
            "text/plain": [
              "(5937,)"
            ]
          },
          "metadata": {},
          "execution_count": 64
        }
      ]
    },
    {
      "cell_type": "code",
      "source": [
        "np.shape(data_Val3)"
      ],
      "metadata": {
        "colab": {
          "base_uri": "https://localhost:8080/"
        },
        "id": "NnTdfiFTlGmU",
        "outputId": "25f7bc86-35f7-456f-fa49-885cffda0317"
      },
      "execution_count": 65,
      "outputs": [
        {
          "output_type": "execute_result",
          "data": {
            "text/plain": [
              "(3874,)"
            ]
          },
          "metadata": {},
          "execution_count": 65
        }
      ]
    },
    {
      "cell_type": "code",
      "source": [
        "dataTest1= data_Arr1.reshape(3300,1,500)\n",
        "dataTest2= data_Arr2.reshape(5937,1,500)\n",
        "dataTest3= data_Arr3.reshape(3874,1,500)"
      ],
      "metadata": {
        "id": "c-PfOKaOlIFJ"
      },
      "execution_count": 66,
      "outputs": []
    },
    {
      "cell_type": "code",
      "source": [
        "valueTest1= data_Val1.reshape(3300,1,1)\n",
        "valueTest2= data_Val2.reshape(5937,1,1)\n",
        "valueTest3= data_Val3.reshape(3874,1,1)"
      ],
      "metadata": {
        "id": "PH_JXMT-lN3I"
      },
      "execution_count": 67,
      "outputs": []
    },
    {
      "cell_type": "code",
      "source": [
        "model.fit(dataTest1,valueTest1,epochs=50)"
      ],
      "metadata": {
        "colab": {
          "base_uri": "https://localhost:8080/"
        },
        "id": "5ngHpJyalUTu",
        "outputId": "93abb91e-41be-430f-e912-0e2c68537e0f"
      },
      "execution_count": 71,
      "outputs": [
        {
          "output_type": "stream",
          "name": "stdout",
          "text": [
            "Epoch 1/50\n",
            "\u001b[1m104/104\u001b[0m \u001b[32m━━━━━━━━━━━━━━━━━━━━\u001b[0m\u001b[37m\u001b[0m \u001b[1m1s\u001b[0m 12ms/step - MeanAbsoluteError: 67.5464 - loss: 13577.3701\n",
            "Epoch 2/50\n",
            "\u001b[1m104/104\u001b[0m \u001b[32m━━━━━━━━━━━━━━━━━━━━\u001b[0m\u001b[37m\u001b[0m \u001b[1m1s\u001b[0m 12ms/step - MeanAbsoluteError: 65.4167 - loss: 13221.6641\n",
            "Epoch 3/50\n",
            "\u001b[1m104/104\u001b[0m \u001b[32m━━━━━━━━━━━━━━━━━━━━\u001b[0m\u001b[37m\u001b[0m \u001b[1m3s\u001b[0m 18ms/step - MeanAbsoluteError: 64.4152 - loss: 13057.3447\n",
            "Epoch 4/50\n",
            "\u001b[1m104/104\u001b[0m \u001b[32m━━━━━━━━━━━━━━━━━━━━\u001b[0m\u001b[37m\u001b[0m \u001b[1m3s\u001b[0m 19ms/step - MeanAbsoluteError: 69.1460 - loss: 14261.7363\n",
            "Epoch 5/50\n",
            "\u001b[1m104/104\u001b[0m \u001b[32m━━━━━━━━━━━━━━━━━━━━\u001b[0m\u001b[37m\u001b[0m \u001b[1m2s\u001b[0m 13ms/step - MeanAbsoluteError: 66.3937 - loss: 13541.3252\n",
            "Epoch 6/50\n",
            "\u001b[1m104/104\u001b[0m \u001b[32m━━━━━━━━━━━━━━━━━━━━\u001b[0m\u001b[37m\u001b[0m \u001b[1m2s\u001b[0m 12ms/step - MeanAbsoluteError: 65.1233 - loss: 13299.4629\n",
            "Epoch 7/50\n",
            "\u001b[1m104/104\u001b[0m \u001b[32m━━━━━━━━━━━━━━━━━━━━\u001b[0m\u001b[37m\u001b[0m \u001b[1m1s\u001b[0m 13ms/step - MeanAbsoluteError: 66.0664 - loss: 13588.7881\n",
            "Epoch 8/50\n",
            "\u001b[1m104/104\u001b[0m \u001b[32m━━━━━━━━━━━━━━━━━━━━\u001b[0m\u001b[37m\u001b[0m \u001b[1m3s\u001b[0m 13ms/step - MeanAbsoluteError: 65.8829 - loss: 13477.9727\n",
            "Epoch 9/50\n",
            "\u001b[1m104/104\u001b[0m \u001b[32m━━━━━━━━━━━━━━━━━━━━\u001b[0m\u001b[37m\u001b[0m \u001b[1m1s\u001b[0m 13ms/step - MeanAbsoluteError: 67.0112 - loss: 13740.4531\n",
            "Epoch 10/50\n",
            "\u001b[1m104/104\u001b[0m \u001b[32m━━━━━━━━━━━━━━━━━━━━\u001b[0m\u001b[37m\u001b[0m \u001b[1m2s\u001b[0m 17ms/step - MeanAbsoluteError: 66.6647 - loss: 13652.5391\n",
            "Epoch 11/50\n",
            "\u001b[1m104/104\u001b[0m \u001b[32m━━━━━━━━━━━━━━━━━━━━\u001b[0m\u001b[37m\u001b[0m \u001b[1m2s\u001b[0m 15ms/step - MeanAbsoluteError: 63.9608 - loss: 12827.9941\n",
            "Epoch 12/50\n",
            "\u001b[1m104/104\u001b[0m \u001b[32m━━━━━━━━━━━━━━━━━━━━\u001b[0m\u001b[37m\u001b[0m \u001b[1m2s\u001b[0m 13ms/step - MeanAbsoluteError: 66.7896 - loss: 13626.0664\n",
            "Epoch 13/50\n",
            "\u001b[1m104/104\u001b[0m \u001b[32m━━━━━━━━━━━━━━━━━━━━\u001b[0m\u001b[37m\u001b[0m \u001b[1m1s\u001b[0m 13ms/step - MeanAbsoluteError: 67.2049 - loss: 13857.8740\n",
            "Epoch 14/50\n",
            "\u001b[1m104/104\u001b[0m \u001b[32m━━━━━━━━━━━━━━━━━━━━\u001b[0m\u001b[37m\u001b[0m \u001b[1m2s\u001b[0m 13ms/step - MeanAbsoluteError: 66.9279 - loss: 13724.1035\n",
            "Epoch 15/50\n",
            "\u001b[1m104/104\u001b[0m \u001b[32m━━━━━━━━━━━━━━━━━━━━\u001b[0m\u001b[37m\u001b[0m \u001b[1m1s\u001b[0m 13ms/step - MeanAbsoluteError: 64.2769 - loss: 13054.2441\n",
            "Epoch 16/50\n",
            "\u001b[1m104/104\u001b[0m \u001b[32m━━━━━━━━━━━━━━━━━━━━\u001b[0m\u001b[37m\u001b[0m \u001b[1m1s\u001b[0m 12ms/step - MeanAbsoluteError: 66.1779 - loss: 13597.5352\n",
            "Epoch 17/50\n",
            "\u001b[1m104/104\u001b[0m \u001b[32m━━━━━━━━━━━━━━━━━━━━\u001b[0m\u001b[37m\u001b[0m \u001b[1m3s\u001b[0m 19ms/step - MeanAbsoluteError: 66.6808 - loss: 13524.1846\n",
            "Epoch 18/50\n",
            "\u001b[1m104/104\u001b[0m \u001b[32m━━━━━━━━━━━━━━━━━━━━\u001b[0m\u001b[37m\u001b[0m \u001b[1m1s\u001b[0m 12ms/step - MeanAbsoluteError: 68.3430 - loss: 13991.2725\n",
            "Epoch 19/50\n",
            "\u001b[1m104/104\u001b[0m \u001b[32m━━━━━━━━━━━━━━━━━━━━\u001b[0m\u001b[37m\u001b[0m \u001b[1m3s\u001b[0m 13ms/step - MeanAbsoluteError: 66.1131 - loss: 13453.9053\n",
            "Epoch 20/50\n",
            "\u001b[1m104/104\u001b[0m \u001b[32m━━━━━━━━━━━━━━━━━━━━\u001b[0m\u001b[37m\u001b[0m \u001b[1m3s\u001b[0m 13ms/step - MeanAbsoluteError: 63.2992 - loss: 12885.2422\n",
            "Epoch 21/50\n",
            "\u001b[1m104/104\u001b[0m \u001b[32m━━━━━━━━━━━━━━━━━━━━\u001b[0m\u001b[37m\u001b[0m \u001b[1m1s\u001b[0m 13ms/step - MeanAbsoluteError: 68.4411 - loss: 14017.8779\n",
            "Epoch 22/50\n",
            "\u001b[1m104/104\u001b[0m \u001b[32m━━━━━━━━━━━━━━━━━━━━\u001b[0m\u001b[37m\u001b[0m \u001b[1m3s\u001b[0m 15ms/step - MeanAbsoluteError: 66.7855 - loss: 13592.7207\n",
            "Epoch 23/50\n",
            "\u001b[1m104/104\u001b[0m \u001b[32m━━━━━━━━━━━━━━━━━━━━\u001b[0m\u001b[37m\u001b[0m \u001b[1m2s\u001b[0m 19ms/step - MeanAbsoluteError: 66.9604 - loss: 13664.6270\n",
            "Epoch 24/50\n",
            "\u001b[1m104/104\u001b[0m \u001b[32m━━━━━━━━━━━━━━━━━━━━\u001b[0m\u001b[37m\u001b[0m \u001b[1m2s\u001b[0m 13ms/step - MeanAbsoluteError: 65.5287 - loss: 13487.1533\n",
            "Epoch 25/50\n",
            "\u001b[1m104/104\u001b[0m \u001b[32m━━━━━━━━━━━━━━━━━━━━\u001b[0m\u001b[37m\u001b[0m \u001b[1m1s\u001b[0m 13ms/step - MeanAbsoluteError: 66.6399 - loss: 13745.2256\n",
            "Epoch 26/50\n",
            "\u001b[1m104/104\u001b[0m \u001b[32m━━━━━━━━━━━━━━━━━━━━\u001b[0m\u001b[37m\u001b[0m \u001b[1m1s\u001b[0m 12ms/step - MeanAbsoluteError: 65.6423 - loss: 13406.3047\n",
            "Epoch 27/50\n",
            "\u001b[1m104/104\u001b[0m \u001b[32m━━━━━━━━━━━━━━━━━━━━\u001b[0m\u001b[37m\u001b[0m \u001b[1m3s\u001b[0m 12ms/step - MeanAbsoluteError: 67.8728 - loss: 14025.2012\n",
            "Epoch 28/50\n",
            "\u001b[1m104/104\u001b[0m \u001b[32m━━━━━━━━━━━━━━━━━━━━\u001b[0m\u001b[37m\u001b[0m \u001b[1m3s\u001b[0m 13ms/step - MeanAbsoluteError: 65.6987 - loss: 13409.5605\n",
            "Epoch 29/50\n",
            "\u001b[1m104/104\u001b[0m \u001b[32m━━━━━━━━━━━━━━━━━━━━\u001b[0m\u001b[37m\u001b[0m \u001b[1m3s\u001b[0m 18ms/step - MeanAbsoluteError: 65.2479 - loss: 13221.3037\n",
            "Epoch 30/50\n",
            "\u001b[1m104/104\u001b[0m \u001b[32m━━━━━━━━━━━━━━━━━━━━\u001b[0m\u001b[37m\u001b[0m \u001b[1m2s\u001b[0m 12ms/step - MeanAbsoluteError: 66.0019 - loss: 13382.6719\n",
            "Epoch 31/50\n",
            "\u001b[1m104/104\u001b[0m \u001b[32m━━━━━━━━━━━━━━━━━━━━\u001b[0m\u001b[37m\u001b[0m \u001b[1m3s\u001b[0m 13ms/step - MeanAbsoluteError: 65.2687 - loss: 13176.2217\n",
            "Epoch 32/50\n",
            "\u001b[1m104/104\u001b[0m \u001b[32m━━━━━━━━━━━━━━━━━━━━\u001b[0m\u001b[37m\u001b[0m \u001b[1m1s\u001b[0m 13ms/step - MeanAbsoluteError: 66.4915 - loss: 13459.9219\n",
            "Epoch 33/50\n",
            "\u001b[1m104/104\u001b[0m \u001b[32m━━━━━━━━━━━━━━━━━━━━\u001b[0m\u001b[37m\u001b[0m \u001b[1m1s\u001b[0m 13ms/step - MeanAbsoluteError: 64.8590 - loss: 13143.1709\n",
            "Epoch 34/50\n",
            "\u001b[1m104/104\u001b[0m \u001b[32m━━━━━━━━━━━━━━━━━━━━\u001b[0m\u001b[37m\u001b[0m \u001b[1m3s\u001b[0m 13ms/step - MeanAbsoluteError: 63.7954 - loss: 12893.5703\n",
            "Epoch 35/50\n",
            "\u001b[1m104/104\u001b[0m \u001b[32m━━━━━━━━━━━━━━━━━━━━\u001b[0m\u001b[37m\u001b[0m \u001b[1m3s\u001b[0m 18ms/step - MeanAbsoluteError: 68.0198 - loss: 13934.6768\n",
            "Epoch 36/50\n",
            "\u001b[1m104/104\u001b[0m \u001b[32m━━━━━━━━━━━━━━━━━━━━\u001b[0m\u001b[37m\u001b[0m \u001b[1m2s\u001b[0m 12ms/step - MeanAbsoluteError: 65.9836 - loss: 13374.6553\n",
            "Epoch 37/50\n",
            "\u001b[1m104/104\u001b[0m \u001b[32m━━━━━━━━━━━━━━━━━━━━\u001b[0m\u001b[37m\u001b[0m \u001b[1m1s\u001b[0m 13ms/step - MeanAbsoluteError: 65.5676 - loss: 13288.2178\n",
            "Epoch 38/50\n",
            "\u001b[1m104/104\u001b[0m \u001b[32m━━━━━━━━━━━━━━━━━━━━\u001b[0m\u001b[37m\u001b[0m \u001b[1m3s\u001b[0m 13ms/step - MeanAbsoluteError: 69.3496 - loss: 14329.1631\n",
            "Epoch 39/50\n",
            "\u001b[1m104/104\u001b[0m \u001b[32m━━━━━━━━━━━━━━━━━━━━\u001b[0m\u001b[37m\u001b[0m \u001b[1m1s\u001b[0m 13ms/step - MeanAbsoluteError: 65.9151 - loss: 13404.1357\n",
            "Epoch 40/50\n",
            "\u001b[1m104/104\u001b[0m \u001b[32m━━━━━━━━━━━━━━━━━━━━\u001b[0m\u001b[37m\u001b[0m \u001b[1m3s\u001b[0m 13ms/step - MeanAbsoluteError: 66.5865 - loss: 13657.5078\n",
            "Epoch 41/50\n",
            "\u001b[1m104/104\u001b[0m \u001b[32m━━━━━━━━━━━━━━━━━━━━\u001b[0m\u001b[37m\u001b[0m \u001b[1m2s\u001b[0m 16ms/step - MeanAbsoluteError: 69.0290 - loss: 14299.4678\n",
            "Epoch 42/50\n",
            "\u001b[1m104/104\u001b[0m \u001b[32m━━━━━━━━━━━━━━━━━━━━\u001b[0m\u001b[37m\u001b[0m \u001b[1m3s\u001b[0m 16ms/step - MeanAbsoluteError: 66.0802 - loss: 13522.3418\n",
            "Epoch 43/50\n",
            "\u001b[1m104/104\u001b[0m \u001b[32m━━━━━━━━━━━━━━━━━━━━\u001b[0m\u001b[37m\u001b[0m \u001b[1m2s\u001b[0m 13ms/step - MeanAbsoluteError: 64.9068 - loss: 13168.3828\n",
            "Epoch 44/50\n",
            "\u001b[1m104/104\u001b[0m \u001b[32m━━━━━━━━━━━━━━━━━━━━\u001b[0m\u001b[37m\u001b[0m \u001b[1m3s\u001b[0m 13ms/step - MeanAbsoluteError: 66.1938 - loss: 13512.4102\n",
            "Epoch 45/50\n",
            "\u001b[1m104/104\u001b[0m \u001b[32m━━━━━━━━━━━━━━━━━━━━\u001b[0m\u001b[37m\u001b[0m \u001b[1m1s\u001b[0m 13ms/step - MeanAbsoluteError: 65.9224 - loss: 13372.4199\n",
            "Epoch 46/50\n",
            "\u001b[1m104/104\u001b[0m \u001b[32m━━━━━━━━━━━━━━━━━━━━\u001b[0m\u001b[37m\u001b[0m \u001b[1m1s\u001b[0m 13ms/step - MeanAbsoluteError: 65.0589 - loss: 13193.2207\n",
            "Epoch 47/50\n",
            "\u001b[1m104/104\u001b[0m \u001b[32m━━━━━━━━━━━━━━━━━━━━\u001b[0m\u001b[37m\u001b[0m \u001b[1m1s\u001b[0m 13ms/step - MeanAbsoluteError: 64.4977 - loss: 13188.6934\n",
            "Epoch 48/50\n",
            "\u001b[1m104/104\u001b[0m \u001b[32m━━━━━━━━━━━━━━━━━━━━\u001b[0m\u001b[37m\u001b[0m \u001b[1m3s\u001b[0m 18ms/step - MeanAbsoluteError: 67.4036 - loss: 13785.4209\n",
            "Epoch 49/50\n",
            "\u001b[1m104/104\u001b[0m \u001b[32m━━━━━━━━━━━━━━━━━━━━\u001b[0m\u001b[37m\u001b[0m \u001b[1m2s\u001b[0m 16ms/step - MeanAbsoluteError: 65.0359 - loss: 13238.4355\n",
            "Epoch 50/50\n",
            "\u001b[1m104/104\u001b[0m \u001b[32m━━━━━━━━━━━━━━━━━━━━\u001b[0m\u001b[37m\u001b[0m \u001b[1m1s\u001b[0m 13ms/step - MeanAbsoluteError: 62.1940 - loss: 12410.8643\n"
          ]
        },
        {
          "output_type": "execute_result",
          "data": {
            "text/plain": [
              "<keras.src.callbacks.history.History at 0x7f090eec3940>"
            ]
          },
          "metadata": {},
          "execution_count": 71
        }
      ]
    },
    {
      "cell_type": "code",
      "source": [
        "model.fit(dataTest2,valueTest2,epochs=50)"
      ],
      "metadata": {
        "colab": {
          "base_uri": "https://localhost:8080/"
        },
        "id": "dzshOjFslY1i",
        "outputId": "f79ca121-05f3-4866-edc9-a213ced02c59"
      },
      "execution_count": 72,
      "outputs": [
        {
          "output_type": "stream",
          "name": "stdout",
          "text": [
            "Epoch 1/50\n",
            "\u001b[1m186/186\u001b[0m \u001b[32m━━━━━━━━━━━━━━━━━━━━\u001b[0m\u001b[37m\u001b[0m \u001b[1m2s\u001b[0m 12ms/step - MeanAbsoluteError: 54.9535 - loss: 4111.4360\n",
            "Epoch 2/50\n",
            "\u001b[1m186/186\u001b[0m \u001b[32m━━━━━━━━━━━━━━━━━━━━\u001b[0m\u001b[37m\u001b[0m \u001b[1m3s\u001b[0m 13ms/step - MeanAbsoluteError: 55.1594 - loss: 4150.2329\n",
            "Epoch 3/50\n",
            "\u001b[1m186/186\u001b[0m \u001b[32m━━━━━━━━━━━━━━━━━━━━\u001b[0m\u001b[37m\u001b[0m \u001b[1m3s\u001b[0m 15ms/step - MeanAbsoluteError: 55.8810 - loss: 4267.6064\n",
            "Epoch 4/50\n",
            "\u001b[1m186/186\u001b[0m \u001b[32m━━━━━━━━━━━━━━━━━━━━\u001b[0m\u001b[37m\u001b[0m \u001b[1m5s\u001b[0m 13ms/step - MeanAbsoluteError: 55.4497 - loss: 4171.5229\n",
            "Epoch 5/50\n",
            "\u001b[1m186/186\u001b[0m \u001b[32m━━━━━━━━━━━━━━━━━━━━\u001b[0m\u001b[37m\u001b[0m \u001b[1m2s\u001b[0m 13ms/step - MeanAbsoluteError: 55.2994 - loss: 4182.6548\n",
            "Epoch 6/50\n",
            "\u001b[1m186/186\u001b[0m \u001b[32m━━━━━━━━━━━━━━━━━━━━\u001b[0m\u001b[37m\u001b[0m \u001b[1m3s\u001b[0m 12ms/step - MeanAbsoluteError: 54.0972 - loss: 3976.9023\n",
            "Epoch 7/50\n",
            "\u001b[1m186/186\u001b[0m \u001b[32m━━━━━━━━━━━━━━━━━━━━\u001b[0m\u001b[37m\u001b[0m \u001b[1m3s\u001b[0m 15ms/step - MeanAbsoluteError: 55.7171 - loss: 4244.1680\n",
            "Epoch 8/50\n",
            "\u001b[1m186/186\u001b[0m \u001b[32m━━━━━━━━━━━━━━━━━━━━\u001b[0m\u001b[37m\u001b[0m \u001b[1m5s\u001b[0m 13ms/step - MeanAbsoluteError: 54.6091 - loss: 4051.6050\n",
            "Epoch 9/50\n",
            "\u001b[1m186/186\u001b[0m \u001b[32m━━━━━━━━━━━━━━━━━━━━\u001b[0m\u001b[37m\u001b[0m \u001b[1m2s\u001b[0m 13ms/step - MeanAbsoluteError: 55.1301 - loss: 4126.1504\n",
            "Epoch 10/50\n",
            "\u001b[1m186/186\u001b[0m \u001b[32m━━━━━━━━━━━━━━━━━━━━\u001b[0m\u001b[37m\u001b[0m \u001b[1m2s\u001b[0m 13ms/step - MeanAbsoluteError: 54.6591 - loss: 4066.0063\n",
            "Epoch 11/50\n",
            "\u001b[1m186/186\u001b[0m \u001b[32m━━━━━━━━━━━━━━━━━━━━\u001b[0m\u001b[37m\u001b[0m \u001b[1m3s\u001b[0m 15ms/step - MeanAbsoluteError: 53.7355 - loss: 3928.0603\n",
            "Epoch 12/50\n",
            "\u001b[1m186/186\u001b[0m \u001b[32m━━━━━━━━━━━━━━━━━━━━\u001b[0m\u001b[37m\u001b[0m \u001b[1m3s\u001b[0m 16ms/step - MeanAbsoluteError: 54.6288 - loss: 4044.6240\n",
            "Epoch 13/50\n",
            "\u001b[1m186/186\u001b[0m \u001b[32m━━━━━━━━━━━━━━━━━━━━\u001b[0m\u001b[37m\u001b[0m \u001b[1m4s\u001b[0m 13ms/step - MeanAbsoluteError: 54.7121 - loss: 4079.7114\n",
            "Epoch 14/50\n",
            "\u001b[1m186/186\u001b[0m \u001b[32m━━━━━━━━━━━━━━━━━━━━\u001b[0m\u001b[37m\u001b[0m \u001b[1m2s\u001b[0m 13ms/step - MeanAbsoluteError: 53.8886 - loss: 3963.7798\n",
            "Epoch 15/50\n",
            "\u001b[1m186/186\u001b[0m \u001b[32m━━━━━━━━━━━━━━━━━━━━\u001b[0m\u001b[37m\u001b[0m \u001b[1m2s\u001b[0m 13ms/step - MeanAbsoluteError: 54.5773 - loss: 4020.1189\n",
            "Epoch 16/50\n",
            "\u001b[1m186/186\u001b[0m \u001b[32m━━━━━━━━━━━━━━━━━━━━\u001b[0m\u001b[37m\u001b[0m \u001b[1m4s\u001b[0m 18ms/step - MeanAbsoluteError: 53.9409 - loss: 3965.4885\n",
            "Epoch 17/50\n",
            "\u001b[1m186/186\u001b[0m \u001b[32m━━━━━━━━━━━━━━━━━━━━\u001b[0m\u001b[37m\u001b[0m \u001b[1m2s\u001b[0m 13ms/step - MeanAbsoluteError: 55.1419 - loss: 4134.8413\n",
            "Epoch 18/50\n",
            "\u001b[1m186/186\u001b[0m \u001b[32m━━━━━━━━━━━━━━━━━━━━\u001b[0m\u001b[37m\u001b[0m \u001b[1m2s\u001b[0m 13ms/step - MeanAbsoluteError: 54.1834 - loss: 3995.6758\n",
            "Epoch 19/50\n",
            "\u001b[1m186/186\u001b[0m \u001b[32m━━━━━━━━━━━━━━━━━━━━\u001b[0m\u001b[37m\u001b[0m \u001b[1m2s\u001b[0m 13ms/step - MeanAbsoluteError: 54.0970 - loss: 3976.6519\n",
            "Epoch 20/50\n",
            "\u001b[1m186/186\u001b[0m \u001b[32m━━━━━━━━━━━━━━━━━━━━\u001b[0m\u001b[37m\u001b[0m \u001b[1m3s\u001b[0m 13ms/step - MeanAbsoluteError: 54.2688 - loss: 4005.9407\n",
            "Epoch 21/50\n",
            "\u001b[1m186/186\u001b[0m \u001b[32m━━━━━━━━━━━━━━━━━━━━\u001b[0m\u001b[37m\u001b[0m \u001b[1m3s\u001b[0m 18ms/step - MeanAbsoluteError: 54.0775 - loss: 3968.9688\n",
            "Epoch 22/50\n",
            "\u001b[1m186/186\u001b[0m \u001b[32m━━━━━━━━━━━━━━━━━━━━\u001b[0m\u001b[37m\u001b[0m \u001b[1m4s\u001b[0m 12ms/step - MeanAbsoluteError: 53.7402 - loss: 3932.1055\n",
            "Epoch 23/50\n",
            "\u001b[1m186/186\u001b[0m \u001b[32m━━━━━━━━━━━━━━━━━━━━\u001b[0m\u001b[37m\u001b[0m \u001b[1m3s\u001b[0m 13ms/step - MeanAbsoluteError: 54.2370 - loss: 3997.7542\n",
            "Epoch 24/50\n",
            "\u001b[1m186/186\u001b[0m \u001b[32m━━━━━━━━━━━━━━━━━━━━\u001b[0m\u001b[37m\u001b[0m \u001b[1m2s\u001b[0m 13ms/step - MeanAbsoluteError: 54.1101 - loss: 3970.6528\n",
            "Epoch 25/50\n",
            "\u001b[1m186/186\u001b[0m \u001b[32m━━━━━━━━━━━━━━━━━━━━\u001b[0m\u001b[37m\u001b[0m \u001b[1m3s\u001b[0m 15ms/step - MeanAbsoluteError: 54.2168 - loss: 3996.0027\n",
            "Epoch 26/50\n",
            "\u001b[1m186/186\u001b[0m \u001b[32m━━━━━━━━━━━━━━━━━━━━\u001b[0m\u001b[37m\u001b[0m \u001b[1m3s\u001b[0m 16ms/step - MeanAbsoluteError: 54.0969 - loss: 3972.6826\n",
            "Epoch 27/50\n",
            "\u001b[1m186/186\u001b[0m \u001b[32m━━━━━━━━━━━━━━━━━━━━\u001b[0m\u001b[37m\u001b[0m \u001b[1m2s\u001b[0m 13ms/step - MeanAbsoluteError: 54.0607 - loss: 3957.2957\n",
            "Epoch 28/50\n",
            "\u001b[1m186/186\u001b[0m \u001b[32m━━━━━━━━━━━━━━━━━━━━\u001b[0m\u001b[37m\u001b[0m \u001b[1m2s\u001b[0m 13ms/step - MeanAbsoluteError: 54.6354 - loss: 4040.9121\n",
            "Epoch 29/50\n",
            "\u001b[1m186/186\u001b[0m \u001b[32m━━━━━━━━━━━━━━━━━━━━\u001b[0m\u001b[37m\u001b[0m \u001b[1m2s\u001b[0m 13ms/step - MeanAbsoluteError: 53.7774 - loss: 3937.5339\n",
            "Epoch 30/50\n",
            "\u001b[1m186/186\u001b[0m \u001b[32m━━━━━━━━━━━━━━━━━━━━\u001b[0m\u001b[37m\u001b[0m \u001b[1m3s\u001b[0m 14ms/step - MeanAbsoluteError: 53.6747 - loss: 3908.9580\n",
            "Epoch 31/50\n",
            "\u001b[1m186/186\u001b[0m \u001b[32m━━━━━━━━━━━━━━━━━━━━\u001b[0m\u001b[37m\u001b[0m \u001b[1m3s\u001b[0m 18ms/step - MeanAbsoluteError: 53.5830 - loss: 3906.2903\n",
            "Epoch 32/50\n",
            "\u001b[1m186/186\u001b[0m \u001b[32m━━━━━━━━━━━━━━━━━━━━\u001b[0m\u001b[37m\u001b[0m \u001b[1m2s\u001b[0m 13ms/step - MeanAbsoluteError: 54.3659 - loss: 4009.5178\n",
            "Epoch 33/50\n",
            "\u001b[1m186/186\u001b[0m \u001b[32m━━━━━━━━━━━━━━━━━━━━\u001b[0m\u001b[37m\u001b[0m \u001b[1m2s\u001b[0m 12ms/step - MeanAbsoluteError: 53.8564 - loss: 3956.1863\n",
            "Epoch 34/50\n",
            "\u001b[1m186/186\u001b[0m \u001b[32m━━━━━━━━━━━━━━━━━━━━\u001b[0m\u001b[37m\u001b[0m \u001b[1m3s\u001b[0m 13ms/step - MeanAbsoluteError: 53.8089 - loss: 3909.9866\n",
            "Epoch 35/50\n",
            "\u001b[1m186/186\u001b[0m \u001b[32m━━━━━━━━━━━━━━━━━━━━\u001b[0m\u001b[37m\u001b[0m \u001b[1m3s\u001b[0m 14ms/step - MeanAbsoluteError: 52.9659 - loss: 3811.5017\n",
            "Epoch 36/50\n",
            "\u001b[1m186/186\u001b[0m \u001b[32m━━━━━━━━━━━━━━━━━━━━\u001b[0m\u001b[37m\u001b[0m \u001b[1m5s\u001b[0m 13ms/step - MeanAbsoluteError: 53.6351 - loss: 3899.8479\n",
            "Epoch 37/50\n",
            "\u001b[1m186/186\u001b[0m \u001b[32m━━━━━━━━━━━━━━━━━━━━\u001b[0m\u001b[37m\u001b[0m \u001b[1m2s\u001b[0m 13ms/step - MeanAbsoluteError: 53.3827 - loss: 3819.6008\n",
            "Epoch 38/50\n",
            "\u001b[1m186/186\u001b[0m \u001b[32m━━━━━━━━━━━━━━━━━━━━\u001b[0m\u001b[37m\u001b[0m \u001b[1m2s\u001b[0m 13ms/step - MeanAbsoluteError: 53.6127 - loss: 3888.6440\n",
            "Epoch 39/50\n",
            "\u001b[1m186/186\u001b[0m \u001b[32m━━━━━━━━━━━━━━━━━━━━\u001b[0m\u001b[37m\u001b[0m \u001b[1m3s\u001b[0m 15ms/step - MeanAbsoluteError: 52.9874 - loss: 3808.4585\n",
            "Epoch 40/50\n",
            "\u001b[1m186/186\u001b[0m \u001b[32m━━━━━━━━━━━━━━━━━━━━\u001b[0m\u001b[37m\u001b[0m \u001b[1m3s\u001b[0m 18ms/step - MeanAbsoluteError: 53.3432 - loss: 3848.2415\n",
            "Epoch 41/50\n",
            "\u001b[1m186/186\u001b[0m \u001b[32m━━━━━━━━━━━━━━━━━━━━\u001b[0m\u001b[37m\u001b[0m \u001b[1m4s\u001b[0m 13ms/step - MeanAbsoluteError: 53.0030 - loss: 3787.2539\n",
            "Epoch 42/50\n",
            "\u001b[1m186/186\u001b[0m \u001b[32m━━━━━━━━━━━━━━━━━━━━\u001b[0m\u001b[37m\u001b[0m \u001b[1m2s\u001b[0m 12ms/step - MeanAbsoluteError: 52.8500 - loss: 3748.5081\n",
            "Epoch 43/50\n",
            "\u001b[1m186/186\u001b[0m \u001b[32m━━━━━━━━━━━━━━━━━━━━\u001b[0m\u001b[37m\u001b[0m \u001b[1m3s\u001b[0m 13ms/step - MeanAbsoluteError: 53.0048 - loss: 3770.5950\n",
            "Epoch 44/50\n",
            "\u001b[1m186/186\u001b[0m \u001b[32m━━━━━━━━━━━━━━━━━━━━\u001b[0m\u001b[37m\u001b[0m \u001b[1m3s\u001b[0m 18ms/step - MeanAbsoluteError: 52.5142 - loss: 3725.4341\n",
            "Epoch 45/50\n",
            "\u001b[1m186/186\u001b[0m \u001b[32m━━━━━━━━━━━━━━━━━━━━\u001b[0m\u001b[37m\u001b[0m \u001b[1m4s\u001b[0m 13ms/step - MeanAbsoluteError: 52.9872 - loss: 3810.8091\n",
            "Epoch 46/50\n",
            "\u001b[1m186/186\u001b[0m \u001b[32m━━━━━━━━━━━━━━━━━━━━\u001b[0m\u001b[37m\u001b[0m \u001b[1m3s\u001b[0m 12ms/step - MeanAbsoluteError: 53.6282 - loss: 3885.9893\n",
            "Epoch 47/50\n",
            "\u001b[1m186/186\u001b[0m \u001b[32m━━━━━━━━━━━━━━━━━━━━\u001b[0m\u001b[37m\u001b[0m \u001b[1m3s\u001b[0m 13ms/step - MeanAbsoluteError: 53.0251 - loss: 3790.4563\n",
            "Epoch 48/50\n",
            "\u001b[1m186/186\u001b[0m \u001b[32m━━━━━━━━━━━━━━━━━━━━\u001b[0m\u001b[37m\u001b[0m \u001b[1m3s\u001b[0m 15ms/step - MeanAbsoluteError: 52.9885 - loss: 3795.6265\n",
            "Epoch 49/50\n",
            "\u001b[1m186/186\u001b[0m \u001b[32m━━━━━━━━━━━━━━━━━━━━\u001b[0m\u001b[37m\u001b[0m \u001b[1m3s\u001b[0m 16ms/step - MeanAbsoluteError: 52.4191 - loss: 3717.3159\n",
            "Epoch 50/50\n",
            "\u001b[1m186/186\u001b[0m \u001b[32m━━━━━━━━━━━━━━━━━━━━\u001b[0m\u001b[37m\u001b[0m \u001b[1m2s\u001b[0m 12ms/step - MeanAbsoluteError: 52.8472 - loss: 3782.4272\n"
          ]
        },
        {
          "output_type": "execute_result",
          "data": {
            "text/plain": [
              "<keras.src.callbacks.history.History at 0x7f090ee94f40>"
            ]
          },
          "metadata": {},
          "execution_count": 72
        }
      ]
    },
    {
      "cell_type": "code",
      "source": [
        "prediction = model.predict(dataTest3)"
      ],
      "metadata": {
        "colab": {
          "base_uri": "https://localhost:8080/"
        },
        "id": "7iKtomObx3ty",
        "outputId": "7d8d1f5a-d2ed-40c6-fd93-4a248b60994c"
      },
      "execution_count": 73,
      "outputs": [
        {
          "output_type": "stream",
          "name": "stdout",
          "text": [
            "\u001b[1m122/122\u001b[0m \u001b[32m━━━━━━━━━━━━━━━━━━━━\u001b[0m\u001b[37m\u001b[0m \u001b[1m0s\u001b[0m 2ms/step\n"
          ]
        }
      ]
    },
    {
      "cell_type": "code",
      "source": [
        "plotPred = []\n",
        "for i in range(len(prediction)):\n",
        "  plotPred.append(prediction[i][0][0])\n",
        "plotVal = []\n",
        "for i in range(len(valueTest3)):\n",
        "  plotVal.append(valueTest3[i][0][0])"
      ],
      "metadata": {
        "id": "H2tQsmaOzMpv"
      },
      "execution_count": 74,
      "outputs": []
    },
    {
      "cell_type": "code",
      "source": [
        "import matplotlib.pyplot as plt\n",
        "\n",
        "plt.figure(figsize=(8, 6))\n",
        "plt.plot(plotVal, label='Actual Data', marker='o', linestyle='--')\n",
        "plt.plot(plotPred, label='Predicted Data', marker='x', linestyle='-')\n",
        "\n",
        "# Add labels and legend\n",
        "plt.title('Actual vs Predicted Values')\n",
        "plt.xlabel('Data Points')\n",
        "plt.ylabel('Values')\n",
        "plt.legend()\n",
        "plt.grid(True)\n",
        "\n",
        "# Show the plot\n",
        "plt.show()"
      ],
      "metadata": {
        "colab": {
          "base_uri": "https://localhost:8080/",
          "height": 564
        },
        "id": "bXOsJJJkzV8n",
        "outputId": "a9e0ac7d-436f-4a62-9ead-90b50e0a3c49"
      },
      "execution_count": 75,
      "outputs": [
        {
          "output_type": "display_data",
          "data": {
            "text/plain": [
              "<Figure size 800x600 with 1 Axes>"
            ],
            "image/png": "[encoded data removed]"
          },
          "metadata": {}
        }
      ]
    },
    {
      "cell_type": "code",
      "source": [],
      "metadata": {
        "id": "mH0xH7eYzXk2"
      },
      "execution_count": null,
      "outputs": []
    }
  ]
}