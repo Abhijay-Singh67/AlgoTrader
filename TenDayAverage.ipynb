{
  "nbformat": 4,
  "nbformat_minor": 0,
  "metadata": {
    "colab": {
      "provenance": []
    },
    "kernelspec": {
      "name": "python3",
      "display_name": "Python 3"
    },
    "language_info": {
      "name": "python"
    }
  },
  "cells": [
    {
      "cell_type": "code",
      "source": [
        "from tensorflow.keras.models import load_model\n",
        "import pandas as pd\n",
        "import numpy as np\n",
        "# Load the Keras model\n",
        "model = load_model('TenDayAverageModel.keras')"
      ],
      "metadata": {
        "id": "hr8CnM9nbne7"
      },
      "execution_count": 35,
      "outputs": []
    },
    {
      "cell_type": "code",
      "source": [
        "data1 = pd.read_csv('/content/AMD_data.csv')\n",
        "data2 = pd.read_csv('/content/BA_data.csv')\n",
        "data3 = pd.read_csv('/content/V_data.csv')"
      ],
      "metadata": {
        "id": "zTZdzLuYbriU"
      },
      "execution_count": 72,
      "outputs": []
    },
    {
      "cell_type": "code",
      "source": [
        "data3"
      ],
      "metadata": {
        "colab": {
          "base_uri": "https://localhost:8080/",
          "height": 424
        },
        "id": "OVpZTC_PwUeq",
        "outputId": "62b6bde8-57a2-49f8-b7b5-463c60b683a7"
      },
      "execution_count": 77,
      "outputs": [
        {
          "output_type": "execute_result",
          "data": {
            "text/plain": [
              "          Open      High       Low     Close    Volume  Label         TEN  \\\n",
              "0     0.014715  0.021799  0.011701  0.012342  1.000000      0    0.000000   \n",
              "1     0.013744  0.018263  0.013938  0.019294  0.279190      0    0.000000   \n",
              "2     0.021550  0.020649  0.015280  0.015202  0.209276      0    0.000000   \n",
              "3     0.015669  0.017600  0.016013  0.018320  0.120891      0    0.000000   \n",
              "4     0.017567  0.017803  0.017579  0.018949  0.058670      0    0.000000   \n",
              "...        ...       ...       ...       ...       ...    ...         ...   \n",
              "3969  0.987421  0.991947  0.994206  0.984378  0.004910      0  256.902333   \n",
              "3970  0.981625  0.986144  0.995445  0.987265  0.000628      1  257.164333   \n",
              "3971  0.984464  0.986263  0.994566  0.986355  0.003387      0  257.101808   \n",
              "3972  0.981664  0.991000  0.995485  0.992169  0.001952      1  256.905308   \n",
              "3973  0.989669  0.992934  1.000000  0.991972  0.003443      0  257.066081   \n",
              "\n",
              "        HUNDREAD  \n",
              "0       0.000000  \n",
              "1       0.000000  \n",
              "2       0.000000  \n",
              "3       0.000000  \n",
              "4       0.000000  \n",
              "...          ...  \n",
              "3969  241.335103  \n",
              "3970  241.532988  \n",
              "3971  241.750148  \n",
              "3972  241.969981  \n",
              "3973  242.187100  \n",
              "\n",
              "[3974 rows x 8 columns]"
            ],
            "text/html": [
              "\n",
              "  <div id=\"df-c0667082-becb-4a53-9b19-0b41c6bf48f6\" class=\"colab-df-container\">\n",
              "    <div>\n",
              "<style scoped>\n",
              "    .dataframe tbody tr th:only-of-type {\n",
              "        vertical-align: middle;\n",
              "    }\n",
              "\n",
              "    .dataframe tbody tr th {\n",
              "        vertical-align: top;\n",
              "    }\n",
              "\n",
              "    .dataframe thead th {\n",
              "        text-align: right;\n",
              "    }\n",
              "</style>\n",
              "<table border=\"1\" class=\"dataframe\">\n",
              "  <thead>\n",
              "    <tr style=\"text-align: right;\">\n",
              "      <th></th>\n",
              "      <th>Open</th>\n",
              "      <th>High</th>\n",
              "      <th>Low</th>\n",
              "      <th>Close</th>\n",
              "      <th>Volume</th>\n",
              "      <th>Label</th>\n",
              "      <th>TEN</th>\n",
              "      <th>HUNDREAD</th>\n",
              "    </tr>\n",
              "  </thead>\n",
              "  <tbody>\n",
              "    <tr>\n",
              "      <th>0</th>\n",
              "      <td>0.014715</td>\n",
              "      <td>0.021799</td>\n",
              "      <td>0.011701</td>\n",
              "      <td>0.012342</td>\n",
              "      <td>1.000000</td>\n",
              "      <td>0</td>\n",
              "      <td>0.000000</td>\n",
              "      <td>0.000000</td>\n",
              "    </tr>\n",
              "    <tr>\n",
              "      <th>1</th>\n",
              "      <td>0.013744</td>\n",
              "      <td>0.018263</td>\n",
              "      <td>0.013938</td>\n",
              "      <td>0.019294</td>\n",
              "      <td>0.279190</td>\n",
              "      <td>0</td>\n",
              "      <td>0.000000</td>\n",
              "      <td>0.000000</td>\n",
              "    </tr>\n",
              "    <tr>\n",
              "      <th>2</th>\n",
              "      <td>0.021550</td>\n",
              "      <td>0.020649</td>\n",
              "      <td>0.015280</td>\n",
              "      <td>0.015202</td>\n",
              "      <td>0.209276</td>\n",
              "      <td>0</td>\n",
              "      <td>0.000000</td>\n",
              "      <td>0.000000</td>\n",
              "    </tr>\n",
              "    <tr>\n",
              "      <th>3</th>\n",
              "      <td>0.015669</td>\n",
              "      <td>0.017600</td>\n",
              "      <td>0.016013</td>\n",
              "      <td>0.018320</td>\n",
              "      <td>0.120891</td>\n",
              "      <td>0</td>\n",
              "      <td>0.000000</td>\n",
              "      <td>0.000000</td>\n",
              "    </tr>\n",
              "    <tr>\n",
              "      <th>4</th>\n",
              "      <td>0.017567</td>\n",
              "      <td>0.017803</td>\n",
              "      <td>0.017579</td>\n",
              "      <td>0.018949</td>\n",
              "      <td>0.058670</td>\n",
              "      <td>0</td>\n",
              "      <td>0.000000</td>\n",
              "      <td>0.000000</td>\n",
              "    </tr>\n",
              "    <tr>\n",
              "      <th>...</th>\n",
              "      <td>...</td>\n",
              "      <td>...</td>\n",
              "      <td>...</td>\n",
              "      <td>...</td>\n",
              "      <td>...</td>\n",
              "      <td>...</td>\n",
              "      <td>...</td>\n",
              "      <td>...</td>\n",
              "    </tr>\n",
              "    <tr>\n",
              "      <th>3969</th>\n",
              "      <td>0.987421</td>\n",
              "      <td>0.991947</td>\n",
              "      <td>0.994206</td>\n",
              "      <td>0.984378</td>\n",
              "      <td>0.004910</td>\n",
              "      <td>0</td>\n",
              "      <td>256.902333</td>\n",
              "      <td>241.335103</td>\n",
              "    </tr>\n",
              "    <tr>\n",
              "      <th>3970</th>\n",
              "      <td>0.981625</td>\n",
              "      <td>0.986144</td>\n",
              "      <td>0.995445</td>\n",
              "      <td>0.987265</td>\n",
              "      <td>0.000628</td>\n",
              "      <td>1</td>\n",
              "      <td>257.164333</td>\n",
              "      <td>241.532988</td>\n",
              "    </tr>\n",
              "    <tr>\n",
              "      <th>3971</th>\n",
              "      <td>0.984464</td>\n",
              "      <td>0.986263</td>\n",
              "      <td>0.994566</td>\n",
              "      <td>0.986355</td>\n",
              "      <td>0.003387</td>\n",
              "      <td>0</td>\n",
              "      <td>257.101808</td>\n",
              "      <td>241.750148</td>\n",
              "    </tr>\n",
              "    <tr>\n",
              "      <th>3972</th>\n",
              "      <td>0.981664</td>\n",
              "      <td>0.991000</td>\n",
              "      <td>0.995485</td>\n",
              "      <td>0.992169</td>\n",
              "      <td>0.001952</td>\n",
              "      <td>1</td>\n",
              "      <td>256.905308</td>\n",
              "      <td>241.969981</td>\n",
              "    </tr>\n",
              "    <tr>\n",
              "      <th>3973</th>\n",
              "      <td>0.989669</td>\n",
              "      <td>0.992934</td>\n",
              "      <td>1.000000</td>\n",
              "      <td>0.991972</td>\n",
              "      <td>0.003443</td>\n",
              "      <td>0</td>\n",
              "      <td>257.066081</td>\n",
              "      <td>242.187100</td>\n",
              "    </tr>\n",
              "  </tbody>\n",
              "</table>\n",
              "<p>3974 rows × 8 columns</p>\n",
              "</div>\n",
              "    <div class=\"colab-df-buttons\">\n",
              "\n",
              "  <div class=\"colab-df-container\">\n",
              "    <button class=\"colab-df-convert\" onclick=\"convertToInteractive('df-c0667082-becb-4a53-9b19-0b41c6bf48f6')\"\n",
              "            title=\"Convert this dataframe to an interactive table.\"\n",
              "            style=\"display:none;\">\n",
              "\n",
              "  <svg xmlns=\"http://www.w3.org/2000/svg\" height=\"24px\" viewBox=\"0 -960 960 960\">\n",
              "    <path d=\"M120-120v-720h720v720H120Zm60-500h600v-160H180v160Zm220 220h160v-160H400v160Zm0 220h160v-160H400v160ZM180-400h160v-160H180v160Zm440 0h160v-160H620v160ZM180-180h160v-160H180v160Zm440 0h160v-160H620v160Z\"/>\n",
              "  </svg>\n",
              "    </button>\n",
              "\n",
              "  <style>\n",
              "    .colab-df-container {\n",
              "      display:flex;\n",
              "      gap: 12px;\n",
              "    }\n",
              "\n",
              "    .colab-df-convert {\n",
              "      background-color: #E8F0FE;\n",
              "      border: none;\n",
              "      border-radius: 50%;\n",
              "      cursor: pointer;\n",
              "      display: none;\n",
              "      fill: #1967D2;\n",
              "      height: 32px;\n",
              "      padding: 0 0 0 0;\n",
              "      width: 32px;\n",
              "    }\n",
              "\n",
              "    .colab-df-convert:hover {\n",
              "      background-color: #E2EBFA;\n",
              "      box-shadow: 0px 1px 2px rgba(60, 64, 67, 0.3), 0px 1px 3px 1px rgba(60, 64, 67, 0.15);\n",
              "      fill: #174EA6;\n",
              "    }\n",
              "\n",
              "    .colab-df-buttons div {\n",
              "      margin-bottom: 4px;\n",
              "    }\n",
              "\n",
              "    [theme=dark] .colab-df-convert {\n",
              "      background-color: #3B4455;\n",
              "      fill: #D2E3FC;\n",
              "    }\n",
              "\n",
              "    [theme=dark] .colab-df-convert:hover {\n",
              "      background-color: #434B5C;\n",
              "      box-shadow: 0px 1px 3px 1px rgba(0, 0, 0, 0.15);\n",
              "      filter: drop-shadow(0px 1px 2px rgba(0, 0, 0, 0.3));\n",
              "      fill: #FFFFFF;\n",
              "    }\n",
              "  </style>\n",
              "\n",
              "    <script>\n",
              "      const buttonEl =\n",
              "        document.querySelector('#df-c0667082-becb-4a53-9b19-0b41c6bf48f6 button.colab-df-convert');\n",
              "      buttonEl.style.display =\n",
              "        google.colab.kernel.accessAllowed ? 'block' : 'none';\n",
              "\n",
              "      async function convertToInteractive(key) {\n",
              "        const element = document.querySelector('#df-c0667082-becb-4a53-9b19-0b41c6bf48f6');\n",
              "        const dataTable =\n",
              "          await google.colab.kernel.invokeFunction('convertToInteractive',\n",
              "                                                    [key], {});\n",
              "        if (!dataTable) return;\n",
              "\n",
              "        const docLinkHtml = 'Like what you see? Visit the ' +\n",
              "          '<a target=\"_blank\" href=https://colab.research.google.com/notebooks/data_table.ipynb>data table notebook</a>'\n",
              "          + ' to learn more about interactive tables.';\n",
              "        element.innerHTML = '';\n",
              "        dataTable['output_type'] = 'display_data';\n",
              "        await google.colab.output.renderOutput(dataTable, element);\n",
              "        const docLink = document.createElement('div');\n",
              "        docLink.innerHTML = docLinkHtml;\n",
              "        element.appendChild(docLink);\n",
              "      }\n",
              "    </script>\n",
              "  </div>\n",
              "\n",
              "\n",
              "<div id=\"df-ce18b4c7-fae2-406f-85b1-4ce12c32b82e\">\n",
              "  <button class=\"colab-df-quickchart\" onclick=\"quickchart('df-ce18b4c7-fae2-406f-85b1-4ce12c32b82e')\"\n",
              "            title=\"Suggest charts\"\n",
              "            style=\"display:none;\">\n",
              "\n",
              "<svg xmlns=\"http://www.w3.org/2000/svg\" height=\"24px\"viewBox=\"0 0 24 24\"\n",
              "     width=\"24px\">\n",
              "    <g>\n",
              "        <path d=\"M19 3H5c-1.1 0-2 .9-2 2v14c0 1.1.9 2 2 2h14c1.1 0 2-.9 2-2V5c0-1.1-.9-2-2-2zM9 17H7v-7h2v7zm4 0h-2V7h2v10zm4 0h-2v-4h2v4z\"/>\n",
              "    </g>\n",
              "</svg>\n",
              "  </button>\n",
              "\n",
              "<style>\n",
              "  .colab-df-quickchart {\n",
              "      --bg-color: #E8F0FE;\n",
              "      --fill-color: #1967D2;\n",
              "      --hover-bg-color: #E2EBFA;\n",
              "      --hover-fill-color: #174EA6;\n",
              "      --disabled-fill-color: #AAA;\n",
              "      --disabled-bg-color: #DDD;\n",
              "  }\n",
              "\n",
              "  [theme=dark] .colab-df-quickchart {\n",
              "      --bg-color: #3B4455;\n",
              "      --fill-color: #D2E3FC;\n",
              "      --hover-bg-color: #434B5C;\n",
              "      --hover-fill-color: #FFFFFF;\n",
              "      --disabled-bg-color: #3B4455;\n",
              "      --disabled-fill-color: #666;\n",
              "  }\n",
              "\n",
              "  .colab-df-quickchart {\n",
              "    background-color: var(--bg-color);\n",
              "    border: none;\n",
              "    border-radius: 50%;\n",
              "    cursor: pointer;\n",
              "    display: none;\n",
              "    fill: var(--fill-color);\n",
              "    height: 32px;\n",
              "    padding: 0;\n",
              "    width: 32px;\n",
              "  }\n",
              "\n",
              "  .colab-df-quickchart:hover {\n",
              "    background-color: var(--hover-bg-color);\n",
              "    box-shadow: 0 1px 2px rgba(60, 64, 67, 0.3), 0 1px 3px 1px rgba(60, 64, 67, 0.15);\n",
              "    fill: var(--button-hover-fill-color);\n",
              "  }\n",
              "\n",
              "  .colab-df-quickchart-complete:disabled,\n",
              "  .colab-df-quickchart-complete:disabled:hover {\n",
              "    background-color: var(--disabled-bg-color);\n",
              "    fill: var(--disabled-fill-color);\n",
              "    box-shadow: none;\n",
              "  }\n",
              "\n",
              "  .colab-df-spinner {\n",
              "    border: 2px solid var(--fill-color);\n",
              "    border-color: transparent;\n",
              "    border-bottom-color: var(--fill-color);\n",
              "    animation:\n",
              "      spin 1s steps(1) infinite;\n",
              "  }\n",
              "\n",
              "  @keyframes spin {\n",
              "    0% {\n",
              "      border-color: transparent;\n",
              "      border-bottom-color: var(--fill-color);\n",
              "      border-left-color: var(--fill-color);\n",
              "    }\n",
              "    20% {\n",
              "      border-color: transparent;\n",
              "      border-left-color: var(--fill-color);\n",
              "      border-top-color: var(--fill-color);\n",
              "    }\n",
              "    30% {\n",
              "      border-color: transparent;\n",
              "      border-left-color: var(--fill-color);\n",
              "      border-top-color: var(--fill-color);\n",
              "      border-right-color: var(--fill-color);\n",
              "    }\n",
              "    40% {\n",
              "      border-color: transparent;\n",
              "      border-right-color: var(--fill-color);\n",
              "      border-top-color: var(--fill-color);\n",
              "    }\n",
              "    60% {\n",
              "      border-color: transparent;\n",
              "      border-right-color: var(--fill-color);\n",
              "    }\n",
              "    80% {\n",
              "      border-color: transparent;\n",
              "      border-right-color: var(--fill-color);\n",
              "      border-bottom-color: var(--fill-color);\n",
              "    }\n",
              "    90% {\n",
              "      border-color: transparent;\n",
              "      border-bottom-color: var(--fill-color);\n",
              "    }\n",
              "  }\n",
              "</style>\n",
              "\n",
              "  <script>\n",
              "    async function quickchart(key) {\n",
              "      const quickchartButtonEl =\n",
              "        document.querySelector('#' + key + ' button');\n",
              "      quickchartButtonEl.disabled = true;  // To prevent multiple clicks.\n",
              "      quickchartButtonEl.classList.add('colab-df-spinner');\n",
              "      try {\n",
              "        const charts = await google.colab.kernel.invokeFunction(\n",
              "            'suggestCharts', [key], {});\n",
              "      } catch (error) {\n",
              "        console.error('Error during call to suggestCharts:', error);\n",
              "      }\n",
              "      quickchartButtonEl.classList.remove('colab-df-spinner');\n",
              "      quickchartButtonEl.classList.add('colab-df-quickchart-complete');\n",
              "    }\n",
              "    (() => {\n",
              "      let quickchartButtonEl =\n",
              "        document.querySelector('#df-ce18b4c7-fae2-406f-85b1-4ce12c32b82e button');\n",
              "      quickchartButtonEl.style.display =\n",
              "        google.colab.kernel.accessAllowed ? 'block' : 'none';\n",
              "    })();\n",
              "  </script>\n",
              "</div>\n",
              "\n",
              "  <div id=\"id_5df3a959-b2a2-4307-8cf6-1c30489b322b\">\n",
              "    <style>\n",
              "      .colab-df-generate {\n",
              "        background-color: #E8F0FE;\n",
              "        border: none;\n",
              "        border-radius: 50%;\n",
              "        cursor: pointer;\n",
              "        display: none;\n",
              "        fill: #1967D2;\n",
              "        height: 32px;\n",
              "        padding: 0 0 0 0;\n",
              "        width: 32px;\n",
              "      }\n",
              "\n",
              "      .colab-df-generate:hover {\n",
              "        background-color: #E2EBFA;\n",
              "        box-shadow: 0px 1px 2px rgba(60, 64, 67, 0.3), 0px 1px 3px 1px rgba(60, 64, 67, 0.15);\n",
              "        fill: #174EA6;\n",
              "      }\n",
              "\n",
              "      [theme=dark] .colab-df-generate {\n",
              "        background-color: #3B4455;\n",
              "        fill: #D2E3FC;\n",
              "      }\n",
              "\n",
              "      [theme=dark] .colab-df-generate:hover {\n",
              "        background-color: #434B5C;\n",
              "        box-shadow: 0px 1px 3px 1px rgba(0, 0, 0, 0.15);\n",
              "        filter: drop-shadow(0px 1px 2px rgba(0, 0, 0, 0.3));\n",
              "        fill: #FFFFFF;\n",
              "      }\n",
              "    </style>\n",
              "    <button class=\"colab-df-generate\" onclick=\"generateWithVariable('data3')\"\n",
              "            title=\"Generate code using this dataframe.\"\n",
              "            style=\"display:none;\">\n",
              "\n",
              "  <svg xmlns=\"http://www.w3.org/2000/svg\" height=\"24px\"viewBox=\"0 0 24 24\"\n",
              "       width=\"24px\">\n",
              "    <path d=\"M7,19H8.4L18.45,9,17,7.55,7,17.6ZM5,21V16.75L18.45,3.32a2,2,0,0,1,2.83,0l1.4,1.43a1.91,1.91,0,0,1,.58,1.4,1.91,1.91,0,0,1-.58,1.4L9.25,21ZM18.45,9,17,7.55Zm-12,3A5.31,5.31,0,0,0,4.9,8.1,5.31,5.31,0,0,0,1,6.5,5.31,5.31,0,0,0,4.9,4.9,5.31,5.31,0,0,0,6.5,1,5.31,5.31,0,0,0,8.1,4.9,5.31,5.31,0,0,0,12,6.5,5.46,5.46,0,0,0,6.5,12Z\"/>\n",
              "  </svg>\n",
              "    </button>\n",
              "    <script>\n",
              "      (() => {\n",
              "      const buttonEl =\n",
              "        document.querySelector('#id_5df3a959-b2a2-4307-8cf6-1c30489b322b button.colab-df-generate');\n",
              "      buttonEl.style.display =\n",
              "        google.colab.kernel.accessAllowed ? 'block' : 'none';\n",
              "\n",
              "      buttonEl.onclick = () => {\n",
              "        google.colab.notebook.generateWithVariable('data3');\n",
              "      }\n",
              "      })();\n",
              "    </script>\n",
              "  </div>\n",
              "\n",
              "    </div>\n",
              "  </div>\n"
            ],
            "application/vnd.google.colaboratory.intrinsic+json": {
              "type": "dataframe",
              "variable_name": "data3",
              "summary": "{\n  \"name\": \"data3\",\n  \"rows\": 3974,\n  \"fields\": [\n    {\n      \"column\": \"Open\",\n      \"properties\": {\n        \"dtype\": \"number\",\n        \"std\": 0.306158050932986,\n        \"min\": 0.0,\n        \"max\": 1.0,\n        \"num_unique_values\": 3974,\n        \"samples\": [\n          0.3419330322191848,\n          0.04118521854977896,\n          0.9647474388774073\n        ],\n        \"semantic_type\": \"\",\n        \"description\": \"\"\n      }\n    },\n    {\n      \"column\": \"High\",\n      \"properties\": {\n        \"dtype\": \"number\",\n        \"std\": 0.30931381868866453,\n        \"min\": 0.0,\n        \"max\": 1.0,\n        \"num_unique_values\": 3973,\n        \"samples\": [\n          0.9860652644644059,\n          0.8647235728332757,\n          0.8407515548584032\n        ],\n        \"semantic_type\": \"\",\n        \"description\": \"\"\n      }\n    },\n    {\n      \"column\": \"Low\",\n      \"properties\": {\n        \"dtype\": \"number\",\n        \"std\": 0.307383994159945,\n        \"min\": 0.0,\n        \"max\": 1.0,\n        \"num_unique_values\": 3973,\n        \"samples\": [\n          0.9869347541078928,\n          0.8680695656142969,\n          0.8410875045994242\n        ],\n        \"semantic_type\": \"\",\n        \"description\": \"\"\n      }\n    },\n    {\n      \"column\": \"Close\",\n      \"properties\": {\n        \"dtype\": \"number\",\n        \"std\": 0.30712114345449737,\n        \"min\": 0.0,\n        \"max\": 1.0,\n        \"num_unique_values\": 3871,\n        \"samples\": [\n          0.8508483581011099,\n          0.8602671583441068,\n          0.3455702908576578\n        ],\n        \"semantic_type\": \"\",\n        \"description\": \"\"\n      }\n    },\n    {\n      \"column\": \"Volume\",\n      \"properties\": {\n        \"dtype\": \"number\",\n        \"std\": 0.028410444680505534,\n        \"min\": 0.0,\n        \"max\": 1.0,\n        \"num_unique_values\": 3910,\n        \"samples\": [\n          0.008382317427113805,\n          0.005537281081809862,\n          0.011352416533693167\n        ],\n        \"semantic_type\": \"\",\n        \"description\": \"\"\n      }\n    },\n    {\n      \"column\": \"Label\",\n      \"properties\": {\n        \"dtype\": \"number\",\n        \"std\": 0,\n        \"min\": 0,\n        \"max\": 1,\n        \"num_unique_values\": 2,\n        \"samples\": [\n          1,\n          0\n        ],\n        \"semantic_type\": \"\",\n        \"description\": \"\"\n      }\n    },\n    {\n      \"column\": \"TEN\",\n      \"properties\": {\n        \"dtype\": \"number\",\n        \"std\": 76.93005135241891,\n        \"min\": 0.0,\n        \"max\": 257.1643326,\n        \"num_unique_values\": 3960,\n        \"samples\": [\n          11.15525789,\n          27.61059532\n        ],\n        \"semantic_type\": \"\",\n        \"description\": \"\"\n      }\n    },\n    {\n      \"column\": \"HUNDREAD\",\n      \"properties\": {\n        \"dtype\": \"number\",\n        \"std\": 75.98420471074087,\n        \"min\": 0.0,\n        \"max\": 242.1870997,\n        \"num_unique_values\": 3874,\n        \"samples\": [\n          212.79809,\n          223.4344859\n        ],\n        \"semantic_type\": \"\",\n        \"description\": \"\"\n      }\n    }\n  ]\n}"
            }
          },
          "metadata": {},
          "execution_count": 77
        }
      ]
    },
    {
      "cell_type": "code",
      "source": [
        "# copying the data\n",
        "data_min_max_scaled = data1.copy()\n",
        "\n",
        "# applying normalization techniques\n",
        "for column in data_min_max_scaled.columns:\n",
        "  if column in ['Volume','Open','High','Low','Close']:\n",
        "    data_min_max_scaled[column] = (data_min_max_scaled[column] - data_min_max_scaled[column].min()) / (data_min_max_scaled[column].max() - data_min_max_scaled[column].min())\n",
        "data1 = data_min_max_scaled"
      ],
      "metadata": {
        "id": "-m8otviZcRw5"
      },
      "execution_count": 38,
      "outputs": []
    },
    {
      "cell_type": "code",
      "source": [
        "# copying the data\n",
        "data_min_max_scaled = data2.copy()\n",
        "\n",
        "# applying normalization techniques\n",
        "for column in data_min_max_scaled.columns:\n",
        "  if column in ['Volume','Open','High','Low','Close']:\n",
        "    data_min_max_scaled[column] = (data_min_max_scaled[column] - data_min_max_scaled[column].min()) / (data_min_max_scaled[column].max() - data_min_max_scaled[column].min())\n",
        "data2 = data_min_max_scaled"
      ],
      "metadata": {
        "id": "KwZK0zMfdIrs"
      },
      "execution_count": 39,
      "outputs": []
    },
    {
      "cell_type": "code",
      "source": [
        "# copying the data\n",
        "data_min_max_scaled = data3.copy()\n",
        "\n",
        "# applying normalization techniques\n",
        "for column in data_min_max_scaled.columns:\n",
        "  if column in ['Volume','Open','High','Low','Close']:\n",
        "    data_min_max_scaled[column] = (data_min_max_scaled[column] - data_min_max_scaled[column].min()) / (data_min_max_scaled[column].max() - data_min_max_scaled[column].min())\n",
        "data3 = data_min_max_scaled"
      ],
      "metadata": {
        "id": "qR3uEJ5edIBj"
      },
      "execution_count": 73,
      "outputs": []
    },
    {
      "cell_type": "code",
      "source": [
        "data1arr = np.array(data1.drop(columns=['TEN','HUNDREAD']))\n",
        "data2arr = np.array(data2.drop(columns=['TEN','HUNDREAD']))\n",
        "data3arr = np.array(data3.drop(columns=['Label','TEN','HUNDREAD']))"
      ],
      "metadata": {
        "id": "t5JKdSnJdMsk"
      },
      "execution_count": 78,
      "outputs": []
    },
    {
      "cell_type": "code",
      "source": [
        "data = []\n",
        "temp = []\n",
        "for i in range(0,len(data1arr)-10):\n",
        "  for j in range(0,10):\n",
        "    temp.append(data1arr[i+j])\n",
        "  data.append(temp)\n",
        "  temp = []\n",
        "data_Arr1 = np.array(data)"
      ],
      "metadata": {
        "id": "TA_HWS1DdfyF"
      },
      "execution_count": 43,
      "outputs": []
    },
    {
      "cell_type": "code",
      "source": [
        "data = []\n",
        "temp = []\n",
        "for i in range(0,len(data2arr)-10):\n",
        "  for j in range(0,10):\n",
        "    temp.append(data2arr[i+j])\n",
        "  data.append(temp)\n",
        "  temp = []\n",
        "data_Arr2 = np.array(data)"
      ],
      "metadata": {
        "id": "qFVPgBkhdotr"
      },
      "execution_count": 44,
      "outputs": []
    },
    {
      "cell_type": "code",
      "source": [
        "data = []\n",
        "temp = []\n",
        "for i in range(0,len(data3arr)-10):\n",
        "  for j in range(0,10):\n",
        "    temp.append(data3arr[i+j])\n",
        "  data.append(temp)\n",
        "  temp = []\n",
        "data_Arr3 = np.array(data)"
      ],
      "metadata": {
        "id": "xumUaL_Ndo3U"
      },
      "execution_count": 79,
      "outputs": []
    },
    {
      "cell_type": "code",
      "source": [
        "np.shape(data_Arr1)"
      ],
      "metadata": {
        "colab": {
          "base_uri": "https://localhost:8080/"
        },
        "id": "ftxNogvddtod",
        "outputId": "3bb7066c-0ba8-43c1-ab3f-ef72c3c85741"
      },
      "execution_count": 80,
      "outputs": [
        {
          "output_type": "execute_result",
          "data": {
            "text/plain": [
              "(6027, 10, 5)"
            ]
          },
          "metadata": {},
          "execution_count": 80
        }
      ]
    },
    {
      "cell_type": "code",
      "source": [
        "np.shape(data_Arr2)"
      ],
      "metadata": {
        "colab": {
          "base_uri": "https://localhost:8080/"
        },
        "id": "ZyOWQAmNdy3J",
        "outputId": "56f6d0ae-4ade-4bb0-9e4b-d9278342e73d"
      },
      "execution_count": 47,
      "outputs": [
        {
          "output_type": "execute_result",
          "data": {
            "text/plain": [
              "(6027, 10, 5)"
            ]
          },
          "metadata": {},
          "execution_count": 47
        }
      ]
    },
    {
      "cell_type": "code",
      "source": [
        "np.shape(data_Arr3)"
      ],
      "metadata": {
        "colab": {
          "base_uri": "https://localhost:8080/"
        },
        "id": "RQ5AxvJjdzFJ",
        "outputId": "b80e9ee4-6184-41fc-cf48-894bac5db40b"
      },
      "execution_count": 81,
      "outputs": [
        {
          "output_type": "execute_result",
          "data": {
            "text/plain": [
              "(3964, 10, 5)"
            ]
          },
          "metadata": {},
          "execution_count": 81
        }
      ]
    },
    {
      "cell_type": "code",
      "source": [
        "data_Val1 = np.array(data1['TEN'])\n",
        "data_Val1 = data_Val1[10:]"
      ],
      "metadata": {
        "id": "gep8lgmMd5sH"
      },
      "execution_count": 49,
      "outputs": []
    },
    {
      "cell_type": "code",
      "source": [
        "data_Val2 = np.array(data2['TEN'])\n",
        "data_Val2 = data_Val2[10:]"
      ],
      "metadata": {
        "id": "L61pmWf8eHmr"
      },
      "execution_count": 50,
      "outputs": []
    },
    {
      "cell_type": "code",
      "source": [
        "data_Val3 = np.array(data3['TEN'])\n",
        "data_Val3 = data_Val3[10:]"
      ],
      "metadata": {
        "id": "ZfodHw9zeHse"
      },
      "execution_count": 82,
      "outputs": []
    },
    {
      "cell_type": "code",
      "source": [
        "np.shape(data_Val1)"
      ],
      "metadata": {
        "colab": {
          "base_uri": "https://localhost:8080/"
        },
        "id": "nasnLXl8eNQe",
        "outputId": "83089101-40df-40ef-e821-f72c0dd9a3a2"
      },
      "execution_count": 52,
      "outputs": [
        {
          "output_type": "execute_result",
          "data": {
            "text/plain": [
              "(6027,)"
            ]
          },
          "metadata": {},
          "execution_count": 52
        }
      ]
    },
    {
      "cell_type": "code",
      "source": [
        "np.shape(data_Val2)"
      ],
      "metadata": {
        "colab": {
          "base_uri": "https://localhost:8080/"
        },
        "id": "2s1fE_wQeSWW",
        "outputId": "a409b9e4-efa5-434b-e0d5-ed0e52f9fdcb"
      },
      "execution_count": 53,
      "outputs": [
        {
          "output_type": "execute_result",
          "data": {
            "text/plain": [
              "(6027,)"
            ]
          },
          "metadata": {},
          "execution_count": 53
        }
      ]
    },
    {
      "cell_type": "code",
      "source": [
        "np.shape(data_Val3)"
      ],
      "metadata": {
        "colab": {
          "base_uri": "https://localhost:8080/"
        },
        "id": "_lH2k-D6eScm",
        "outputId": "8fe4ac6e-00e0-4240-f706-d3a5a63ab077"
      },
      "execution_count": 83,
      "outputs": [
        {
          "output_type": "execute_result",
          "data": {
            "text/plain": [
              "(3964,)"
            ]
          },
          "metadata": {},
          "execution_count": 83
        }
      ]
    },
    {
      "cell_type": "code",
      "source": [
        "dataTest1= data_Arr1.reshape(6027,1,50)\n",
        "dataTest2= data_Arr2.reshape(6027,1,50)\n",
        "dataTest3= data_Arr3.reshape(3964,1,50)"
      ],
      "metadata": {
        "id": "1z2yeoHTeUJ2"
      },
      "execution_count": 84,
      "outputs": []
    },
    {
      "cell_type": "code",
      "source": [
        "valueTest1= data_Val1.reshape(6027,1,1)\n",
        "valueTest2= data_Val2.reshape(6027,1,1)\n",
        "valueTest3= data_Val3.reshape(3964,1,1)"
      ],
      "metadata": {
        "id": "TYeF46WVegWN"
      },
      "execution_count": 85,
      "outputs": []
    },
    {
      "cell_type": "code",
      "source": [
        "model.fit(dataTest1,valueTest1,epochs=50)"
      ],
      "metadata": {
        "colab": {
          "base_uri": "https://localhost:8080/"
        },
        "id": "oLWbHMhKep5Y",
        "outputId": "402d7f18-3f4a-4a1a-be1a-2a6a87f9fca4"
      },
      "execution_count": 59,
      "outputs": [
        {
          "output_type": "stream",
          "name": "stdout",
          "text": [
            "Epoch 1/50\n",
            "\u001b[1m189/189\u001b[0m \u001b[32m━━━━━━━━━━━━━━━━━━━━\u001b[0m\u001b[37m\u001b[0m \u001b[1m1s\u001b[0m 3ms/step - MeanAbsoluteError: 4.6584 - loss: 32.4077\n",
            "Epoch 2/50\n",
            "\u001b[1m189/189\u001b[0m \u001b[32m━━━━━━━━━━━━━━━━━━━━\u001b[0m\u001b[37m\u001b[0m \u001b[1m1s\u001b[0m 3ms/step - MeanAbsoluteError: 0.5075 - loss: 1.1645\n",
            "Epoch 3/50\n",
            "\u001b[1m189/189\u001b[0m \u001b[32m━━━━━━━━━━━━━━━━━━━━\u001b[0m\u001b[37m\u001b[0m \u001b[1m1s\u001b[0m 3ms/step - MeanAbsoluteError: 0.4358 - loss: 0.8353\n",
            "Epoch 4/50\n",
            "\u001b[1m189/189\u001b[0m \u001b[32m━━━━━━━━━━━━━━━━━━━━\u001b[0m\u001b[37m\u001b[0m \u001b[1m1s\u001b[0m 2ms/step - MeanAbsoluteError: 0.4363 - loss: 0.8024\n",
            "Epoch 5/50\n",
            "\u001b[1m189/189\u001b[0m \u001b[32m━━━━━━━━━━━━━━━━━━━━\u001b[0m\u001b[37m\u001b[0m \u001b[1m1s\u001b[0m 3ms/step - MeanAbsoluteError: 0.3978 - loss: 0.7028\n",
            "Epoch 6/50\n",
            "\u001b[1m189/189\u001b[0m \u001b[32m━━━━━━━━━━━━━━━━━━━━\u001b[0m\u001b[37m\u001b[0m \u001b[1m1s\u001b[0m 3ms/step - MeanAbsoluteError: 0.3969 - loss: 0.6543\n",
            "Epoch 7/50\n",
            "\u001b[1m189/189\u001b[0m \u001b[32m━━━━━━━━━━━━━━━━━━━━\u001b[0m\u001b[37m\u001b[0m \u001b[1m1s\u001b[0m 3ms/step - MeanAbsoluteError: 0.4200 - loss: 0.6247\n",
            "Epoch 8/50\n",
            "\u001b[1m189/189\u001b[0m \u001b[32m━━━━━━━━━━━━━━━━━━━━\u001b[0m\u001b[37m\u001b[0m \u001b[1m1s\u001b[0m 3ms/step - MeanAbsoluteError: 0.3941 - loss: 0.6679\n",
            "Epoch 9/50\n",
            "\u001b[1m189/189\u001b[0m \u001b[32m━━━━━━━━━━━━━━━━━━━━\u001b[0m\u001b[37m\u001b[0m \u001b[1m1s\u001b[0m 3ms/step - MeanAbsoluteError: 0.3712 - loss: 0.5946\n",
            "Epoch 10/50\n",
            "\u001b[1m189/189\u001b[0m \u001b[32m━━━━━━━━━━━━━━━━━━━━\u001b[0m\u001b[37m\u001b[0m \u001b[1m1s\u001b[0m 3ms/step - MeanAbsoluteError: 0.3870 - loss: 0.6420\n",
            "Epoch 11/50\n",
            "\u001b[1m189/189\u001b[0m \u001b[32m━━━━━━━━━━━━━━━━━━━━\u001b[0m\u001b[37m\u001b[0m \u001b[1m1s\u001b[0m 3ms/step - MeanAbsoluteError: 0.3870 - loss: 0.5965\n",
            "Epoch 12/50\n",
            "\u001b[1m189/189\u001b[0m \u001b[32m━━━━━━━━━━━━━━━━━━━━\u001b[0m\u001b[37m\u001b[0m \u001b[1m1s\u001b[0m 3ms/step - MeanAbsoluteError: 0.3466 - loss: 0.5739\n",
            "Epoch 13/50\n",
            "\u001b[1m189/189\u001b[0m \u001b[32m━━━━━━━━━━━━━━━━━━━━\u001b[0m\u001b[37m\u001b[0m \u001b[1m1s\u001b[0m 2ms/step - MeanAbsoluteError: 0.4264 - loss: 0.7087\n",
            "Epoch 14/50\n",
            "\u001b[1m189/189\u001b[0m \u001b[32m━━━━━━━━━━━━━━━━━━━━\u001b[0m\u001b[37m\u001b[0m \u001b[1m1s\u001b[0m 3ms/step - MeanAbsoluteError: 0.4005 - loss: 0.6428\n",
            "Epoch 15/50\n",
            "\u001b[1m189/189\u001b[0m \u001b[32m━━━━━━━━━━━━━━━━━━━━\u001b[0m\u001b[37m\u001b[0m \u001b[1m0s\u001b[0m 3ms/step - MeanAbsoluteError: 0.3525 - loss: 0.5433\n",
            "Epoch 16/50\n",
            "\u001b[1m189/189\u001b[0m \u001b[32m━━━━━━━━━━━━━━━━━━━━\u001b[0m\u001b[37m\u001b[0m \u001b[1m1s\u001b[0m 5ms/step - MeanAbsoluteError: 0.3966 - loss: 0.6543\n",
            "Epoch 17/50\n",
            "\u001b[1m189/189\u001b[0m \u001b[32m━━━━━━━━━━━━━━━━━━━━\u001b[0m\u001b[37m\u001b[0m \u001b[1m1s\u001b[0m 5ms/step - MeanAbsoluteError: 0.3820 - loss: 0.5627\n",
            "Epoch 18/50\n",
            "\u001b[1m189/189\u001b[0m \u001b[32m━━━━━━━━━━━━━━━━━━━━\u001b[0m\u001b[37m\u001b[0m \u001b[1m1s\u001b[0m 6ms/step - MeanAbsoluteError: 0.3604 - loss: 0.6709\n",
            "Epoch 19/50\n",
            "\u001b[1m189/189\u001b[0m \u001b[32m━━━━━━━━━━━━━━━━━━━━\u001b[0m\u001b[37m\u001b[0m \u001b[1m1s\u001b[0m 3ms/step - MeanAbsoluteError: 0.3806 - loss: 0.6587\n",
            "Epoch 20/50\n",
            "\u001b[1m189/189\u001b[0m \u001b[32m━━━━━━━━━━━━━━━━━━━━\u001b[0m\u001b[37m\u001b[0m \u001b[1m1s\u001b[0m 3ms/step - MeanAbsoluteError: 0.3472 - loss: 0.5827\n",
            "Epoch 21/50\n",
            "\u001b[1m189/189\u001b[0m \u001b[32m━━━━━━━━━━━━━━━━━━━━\u001b[0m\u001b[37m\u001b[0m \u001b[1m1s\u001b[0m 3ms/step - MeanAbsoluteError: 0.3299 - loss: 0.5373\n",
            "Epoch 22/50\n",
            "\u001b[1m189/189\u001b[0m \u001b[32m━━━━━━━━━━━━━━━━━━━━\u001b[0m\u001b[37m\u001b[0m \u001b[1m1s\u001b[0m 3ms/step - MeanAbsoluteError: 0.3471 - loss: 0.4787\n",
            "Epoch 23/50\n",
            "\u001b[1m189/189\u001b[0m \u001b[32m━━━━━━━━━━━━━━━━━━━━\u001b[0m\u001b[37m\u001b[0m \u001b[1m1s\u001b[0m 3ms/step - MeanAbsoluteError: 0.3576 - loss: 0.5838\n",
            "Epoch 24/50\n",
            "\u001b[1m189/189\u001b[0m \u001b[32m━━━━━━━━━━━━━━━━━━━━\u001b[0m\u001b[37m\u001b[0m \u001b[1m1s\u001b[0m 3ms/step - MeanAbsoluteError: 0.3470 - loss: 0.5323\n",
            "Epoch 25/50\n",
            "\u001b[1m189/189\u001b[0m \u001b[32m━━━━━━━━━━━━━━━━━━━━\u001b[0m\u001b[37m\u001b[0m \u001b[1m1s\u001b[0m 3ms/step - MeanAbsoluteError: 0.4012 - loss: 0.6402\n",
            "Epoch 26/50\n",
            "\u001b[1m189/189\u001b[0m \u001b[32m━━━━━━━━━━━━━━━━━━━━\u001b[0m\u001b[37m\u001b[0m \u001b[1m1s\u001b[0m 3ms/step - MeanAbsoluteError: 0.3456 - loss: 0.6007\n",
            "Epoch 27/50\n",
            "\u001b[1m189/189\u001b[0m \u001b[32m━━━━━━━━━━━━━━━━━━━━\u001b[0m\u001b[37m\u001b[0m \u001b[1m1s\u001b[0m 3ms/step - MeanAbsoluteError: 0.3324 - loss: 0.4937\n",
            "Epoch 28/50\n",
            "\u001b[1m189/189\u001b[0m \u001b[32m━━━━━━━━━━━━━━━━━━━━\u001b[0m\u001b[37m\u001b[0m \u001b[1m1s\u001b[0m 3ms/step - MeanAbsoluteError: 0.3295 - loss: 0.4645\n",
            "Epoch 29/50\n",
            "\u001b[1m189/189\u001b[0m \u001b[32m━━━━━━━━━━━━━━━━━━━━\u001b[0m\u001b[37m\u001b[0m \u001b[1m1s\u001b[0m 3ms/step - MeanAbsoluteError: 0.3496 - loss: 0.6005\n",
            "Epoch 30/50\n",
            "\u001b[1m189/189\u001b[0m \u001b[32m━━━━━━━━━━━━━━━━━━━━\u001b[0m\u001b[37m\u001b[0m \u001b[1m1s\u001b[0m 3ms/step - MeanAbsoluteError: 0.3705 - loss: 0.5107\n",
            "Epoch 31/50\n",
            "\u001b[1m189/189\u001b[0m \u001b[32m━━━━━━━━━━━━━━━━━━━━\u001b[0m\u001b[37m\u001b[0m \u001b[1m1s\u001b[0m 3ms/step - MeanAbsoluteError: 0.3622 - loss: 0.6121\n",
            "Epoch 32/50\n",
            "\u001b[1m189/189\u001b[0m \u001b[32m━━━━━━━━━━━━━━━━━━━━\u001b[0m\u001b[37m\u001b[0m \u001b[1m1s\u001b[0m 3ms/step - MeanAbsoluteError: 0.3739 - loss: 0.5152\n",
            "Epoch 33/50\n",
            "\u001b[1m189/189\u001b[0m \u001b[32m━━━━━━━━━━━━━━━━━━━━\u001b[0m\u001b[37m\u001b[0m \u001b[1m1s\u001b[0m 3ms/step - MeanAbsoluteError: 0.3258 - loss: 0.5294\n",
            "Epoch 34/50\n",
            "\u001b[1m189/189\u001b[0m \u001b[32m━━━━━━━━━━━━━━━━━━━━\u001b[0m\u001b[37m\u001b[0m \u001b[1m1s\u001b[0m 3ms/step - MeanAbsoluteError: 0.3268 - loss: 0.4943\n",
            "Epoch 35/50\n",
            "\u001b[1m189/189\u001b[0m \u001b[32m━━━━━━━━━━━━━━━━━━━━\u001b[0m\u001b[37m\u001b[0m \u001b[1m1s\u001b[0m 3ms/step - MeanAbsoluteError: 0.3503 - loss: 0.5496\n",
            "Epoch 36/50\n",
            "\u001b[1m189/189\u001b[0m \u001b[32m━━━━━━━━━━━━━━━━━━━━\u001b[0m\u001b[37m\u001b[0m \u001b[1m1s\u001b[0m 4ms/step - MeanAbsoluteError: 0.2851 - loss: 0.4418\n",
            "Epoch 37/50\n",
            "\u001b[1m189/189\u001b[0m \u001b[32m━━━━━━━━━━━━━━━━━━━━\u001b[0m\u001b[37m\u001b[0m \u001b[1m1s\u001b[0m 5ms/step - MeanAbsoluteError: 0.3545 - loss: 0.5583\n",
            "Epoch 38/50\n",
            "\u001b[1m189/189\u001b[0m \u001b[32m━━━━━━━━━━━━━━━━━━━━\u001b[0m\u001b[37m\u001b[0m \u001b[1m1s\u001b[0m 5ms/step - MeanAbsoluteError: 0.3162 - loss: 0.4488\n",
            "Epoch 39/50\n",
            "\u001b[1m189/189\u001b[0m \u001b[32m━━━━━━━━━━━━━━━━━━━━\u001b[0m\u001b[37m\u001b[0m \u001b[1m1s\u001b[0m 3ms/step - MeanAbsoluteError: 0.2997 - loss: 0.4141\n",
            "Epoch 40/50\n",
            "\u001b[1m189/189\u001b[0m \u001b[32m━━━━━━━━━━━━━━━━━━━━\u001b[0m\u001b[37m\u001b[0m \u001b[1m1s\u001b[0m 3ms/step - MeanAbsoluteError: 0.2979 - loss: 0.4223\n",
            "Epoch 41/50\n",
            "\u001b[1m189/189\u001b[0m \u001b[32m━━━━━━━━━━━━━━━━━━━━\u001b[0m\u001b[37m\u001b[0m \u001b[1m1s\u001b[0m 3ms/step - MeanAbsoluteError: 0.3158 - loss: 0.4485\n",
            "Epoch 42/50\n",
            "\u001b[1m189/189\u001b[0m \u001b[32m━━━━━━━━━━━━━━━━━━━━\u001b[0m\u001b[37m\u001b[0m \u001b[1m1s\u001b[0m 3ms/step - MeanAbsoluteError: 0.2945 - loss: 0.4312\n",
            "Epoch 43/50\n",
            "\u001b[1m189/189\u001b[0m \u001b[32m━━━━━━━━━━━━━━━━━━━━\u001b[0m\u001b[37m\u001b[0m \u001b[1m1s\u001b[0m 3ms/step - MeanAbsoluteError: 0.3288 - loss: 0.4890\n",
            "Epoch 44/50\n",
            "\u001b[1m189/189\u001b[0m \u001b[32m━━━━━━━━━━━━━━━━━━━━\u001b[0m\u001b[37m\u001b[0m \u001b[1m1s\u001b[0m 3ms/step - MeanAbsoluteError: 0.3207 - loss: 0.4455\n",
            "Epoch 45/50\n",
            "\u001b[1m189/189\u001b[0m \u001b[32m━━━━━━━━━━━━━━━━━━━━\u001b[0m\u001b[37m\u001b[0m \u001b[1m1s\u001b[0m 3ms/step - MeanAbsoluteError: 0.3370 - loss: 0.4947\n",
            "Epoch 46/50\n",
            "\u001b[1m189/189\u001b[0m \u001b[32m━━━━━━━━━━━━━━━━━━━━\u001b[0m\u001b[37m\u001b[0m \u001b[1m1s\u001b[0m 3ms/step - MeanAbsoluteError: 0.3051 - loss: 0.4416\n",
            "Epoch 47/50\n",
            "\u001b[1m189/189\u001b[0m \u001b[32m━━━━━━━━━━━━━━━━━━━━\u001b[0m\u001b[37m\u001b[0m \u001b[1m1s\u001b[0m 3ms/step - MeanAbsoluteError: 0.2780 - loss: 0.3529\n",
            "Epoch 48/50\n",
            "\u001b[1m189/189\u001b[0m \u001b[32m━━━━━━━━━━━━━━━━━━━━\u001b[0m\u001b[37m\u001b[0m \u001b[1m1s\u001b[0m 3ms/step - MeanAbsoluteError: 0.3271 - loss: 0.4909\n",
            "Epoch 49/50\n",
            "\u001b[1m189/189\u001b[0m \u001b[32m━━━━━━━━━━━━━━━━━━━━\u001b[0m\u001b[37m\u001b[0m \u001b[1m1s\u001b[0m 3ms/step - MeanAbsoluteError: 0.3336 - loss: 0.5495\n",
            "Epoch 50/50\n",
            "\u001b[1m189/189\u001b[0m \u001b[32m━━━━━━━━━━━━━━━━━━━━\u001b[0m\u001b[37m\u001b[0m \u001b[1m1s\u001b[0m 3ms/step - MeanAbsoluteError: 0.2845 - loss: 0.4017\n"
          ]
        },
        {
          "output_type": "execute_result",
          "data": {
            "text/plain": [
              "<keras.src.callbacks.history.History at 0x7aaf2c738850>"
            ]
          },
          "metadata": {},
          "execution_count": 59
        }
      ]
    },
    {
      "cell_type": "code",
      "source": [
        "model.fit(dataTest2,valueTest2,epochs=50)"
      ],
      "metadata": {
        "colab": {
          "base_uri": "https://localhost:8080/"
        },
        "id": "xjPMsbCWezR6",
        "outputId": "4c7a2bbb-a521-42ea-b301-116952dbaa14"
      },
      "execution_count": 60,
      "outputs": [
        {
          "output_type": "stream",
          "name": "stdout",
          "text": [
            "Epoch 1/50\n",
            "\u001b[1m189/189\u001b[0m \u001b[32m━━━━━━━━━━━━━━━━━━━━\u001b[0m\u001b[37m\u001b[0m \u001b[1m1s\u001b[0m 3ms/step - MeanAbsoluteError: 24.5800 - loss: 1944.4919\n",
            "Epoch 2/50\n",
            "\u001b[1m189/189\u001b[0m \u001b[32m━━━━━━━━━━━━━━━━━━━━\u001b[0m\u001b[37m\u001b[0m \u001b[1m1s\u001b[0m 3ms/step - MeanAbsoluteError: 1.2968 - loss: 4.4829\n",
            "Epoch 3/50\n",
            "\u001b[1m189/189\u001b[0m \u001b[32m━━━━━━━━━━━━━━━━━━━━\u001b[0m\u001b[37m\u001b[0m \u001b[1m1s\u001b[0m 3ms/step - MeanAbsoluteError: 1.2313 - loss: 4.4019\n",
            "Epoch 4/50\n",
            "\u001b[1m189/189\u001b[0m \u001b[32m━━━━━━━━━━━━━━━━━━━━\u001b[0m\u001b[37m\u001b[0m \u001b[1m1s\u001b[0m 3ms/step - MeanAbsoluteError: 1.1445 - loss: 4.3966\n",
            "Epoch 5/50\n",
            "\u001b[1m189/189\u001b[0m \u001b[32m━━━━━━━━━━━━━━━━━━━━\u001b[0m\u001b[37m\u001b[0m \u001b[1m1s\u001b[0m 3ms/step - MeanAbsoluteError: 1.1798 - loss: 4.0677\n",
            "Epoch 6/50\n",
            "\u001b[1m189/189\u001b[0m \u001b[32m━━━━━━━━━━━━━━━━━━━━\u001b[0m\u001b[37m\u001b[0m \u001b[1m1s\u001b[0m 3ms/step - MeanAbsoluteError: 1.2581 - loss: 4.5458\n",
            "Epoch 7/50\n",
            "\u001b[1m189/189\u001b[0m \u001b[32m━━━━━━━━━━━━━━━━━━━━\u001b[0m\u001b[37m\u001b[0m \u001b[1m1s\u001b[0m 3ms/step - MeanAbsoluteError: 1.1643 - loss: 4.0368\n",
            "Epoch 8/50\n",
            "\u001b[1m189/189\u001b[0m \u001b[32m━━━━━━━━━━━━━━━━━━━━\u001b[0m\u001b[37m\u001b[0m \u001b[1m1s\u001b[0m 3ms/step - MeanAbsoluteError: 1.1093 - loss: 4.0044\n",
            "Epoch 9/50\n",
            "\u001b[1m189/189\u001b[0m \u001b[32m━━━━━━━━━━━━━━━━━━━━\u001b[0m\u001b[37m\u001b[0m \u001b[1m1s\u001b[0m 3ms/step - MeanAbsoluteError: 1.1397 - loss: 3.9074\n",
            "Epoch 10/50\n",
            "\u001b[1m189/189\u001b[0m \u001b[32m━━━━━━━━━━━━━━━━━━━━\u001b[0m\u001b[37m\u001b[0m \u001b[1m1s\u001b[0m 3ms/step - MeanAbsoluteError: 1.2522 - loss: 4.8105\n",
            "Epoch 11/50\n",
            "\u001b[1m189/189\u001b[0m \u001b[32m━━━━━━━━━━━━━━━━━━━━\u001b[0m\u001b[37m\u001b[0m \u001b[1m1s\u001b[0m 3ms/step - MeanAbsoluteError: 1.2282 - loss: 4.6087\n",
            "Epoch 12/50\n",
            "\u001b[1m189/189\u001b[0m \u001b[32m━━━━━━━━━━━━━━━━━━━━\u001b[0m\u001b[37m\u001b[0m \u001b[1m1s\u001b[0m 3ms/step - MeanAbsoluteError: 1.1244 - loss: 3.6863\n",
            "Epoch 13/50\n",
            "\u001b[1m189/189\u001b[0m \u001b[32m━━━━━━━━━━━━━━━━━━━━\u001b[0m\u001b[37m\u001b[0m \u001b[1m1s\u001b[0m 4ms/step - MeanAbsoluteError: 1.2694 - loss: 4.3972\n",
            "Epoch 14/50\n",
            "\u001b[1m189/189\u001b[0m \u001b[32m━━━━━━━━━━━━━━━━━━━━\u001b[0m\u001b[37m\u001b[0m \u001b[1m1s\u001b[0m 5ms/step - MeanAbsoluteError: 1.1424 - loss: 4.3193\n",
            "Epoch 15/50\n",
            "\u001b[1m189/189\u001b[0m \u001b[32m━━━━━━━━━━━━━━━━━━━━\u001b[0m\u001b[37m\u001b[0m \u001b[1m1s\u001b[0m 5ms/step - MeanAbsoluteError: 1.1137 - loss: 4.3304\n",
            "Epoch 16/50\n",
            "\u001b[1m189/189\u001b[0m \u001b[32m━━━━━━━━━━━━━━━━━━━━\u001b[0m\u001b[37m\u001b[0m \u001b[1m1s\u001b[0m 3ms/step - MeanAbsoluteError: 1.0738 - loss: 3.5183\n",
            "Epoch 17/50\n",
            "\u001b[1m189/189\u001b[0m \u001b[32m━━━━━━━━━━━━━━━━━━━━\u001b[0m\u001b[37m\u001b[0m \u001b[1m1s\u001b[0m 3ms/step - MeanAbsoluteError: 1.0638 - loss: 3.6616\n",
            "Epoch 18/50\n",
            "\u001b[1m189/189\u001b[0m \u001b[32m━━━━━━━━━━━━━━━━━━━━\u001b[0m\u001b[37m\u001b[0m \u001b[1m1s\u001b[0m 3ms/step - MeanAbsoluteError: 1.0741 - loss: 4.1344\n",
            "Epoch 19/50\n",
            "\u001b[1m189/189\u001b[0m \u001b[32m━━━━━━━━━━━━━━━━━━━━\u001b[0m\u001b[37m\u001b[0m \u001b[1m1s\u001b[0m 3ms/step - MeanAbsoluteError: 1.2620 - loss: 4.6766\n",
            "Epoch 20/50\n",
            "\u001b[1m189/189\u001b[0m \u001b[32m━━━━━━━━━━━━━━━━━━━━\u001b[0m\u001b[37m\u001b[0m \u001b[1m1s\u001b[0m 3ms/step - MeanAbsoluteError: 1.2537 - loss: 4.0531\n",
            "Epoch 21/50\n",
            "\u001b[1m189/189\u001b[0m \u001b[32m━━━━━━━━━━━━━━━━━━━━\u001b[0m\u001b[37m\u001b[0m \u001b[1m1s\u001b[0m 3ms/step - MeanAbsoluteError: 1.0906 - loss: 4.0519\n",
            "Epoch 22/50\n",
            "\u001b[1m189/189\u001b[0m \u001b[32m━━━━━━━━━━━━━━━━━━━━\u001b[0m\u001b[37m\u001b[0m \u001b[1m1s\u001b[0m 3ms/step - MeanAbsoluteError: 1.0460 - loss: 3.5588\n",
            "Epoch 23/50\n",
            "\u001b[1m189/189\u001b[0m \u001b[32m━━━━━━━━━━━━━━━━━━━━\u001b[0m\u001b[37m\u001b[0m \u001b[1m1s\u001b[0m 3ms/step - MeanAbsoluteError: 1.0609 - loss: 3.3566\n",
            "Epoch 24/50\n",
            "\u001b[1m189/189\u001b[0m \u001b[32m━━━━━━━━━━━━━━━━━━━━\u001b[0m\u001b[37m\u001b[0m \u001b[1m1s\u001b[0m 3ms/step - MeanAbsoluteError: 1.0702 - loss: 3.4268\n",
            "Epoch 25/50\n",
            "\u001b[1m189/189\u001b[0m \u001b[32m━━━━━━━━━━━━━━━━━━━━\u001b[0m\u001b[37m\u001b[0m \u001b[1m1s\u001b[0m 3ms/step - MeanAbsoluteError: 1.1029 - loss: 4.2093\n",
            "Epoch 26/50\n",
            "\u001b[1m189/189\u001b[0m \u001b[32m━━━━━━━━━━━━━━━━━━━━\u001b[0m\u001b[37m\u001b[0m \u001b[1m1s\u001b[0m 3ms/step - MeanAbsoluteError: 1.1514 - loss: 3.9762\n",
            "Epoch 27/50\n",
            "\u001b[1m189/189\u001b[0m \u001b[32m━━━━━━━━━━━━━━━━━━━━\u001b[0m\u001b[37m\u001b[0m \u001b[1m1s\u001b[0m 3ms/step - MeanAbsoluteError: 1.0846 - loss: 3.5703\n",
            "Epoch 28/50\n",
            "\u001b[1m189/189\u001b[0m \u001b[32m━━━━━━━━━━━━━━━━━━━━\u001b[0m\u001b[37m\u001b[0m \u001b[1m1s\u001b[0m 3ms/step - MeanAbsoluteError: 1.0293 - loss: 4.3475\n",
            "Epoch 29/50\n",
            "\u001b[1m189/189\u001b[0m \u001b[32m━━━━━━━━━━━━━━━━━━━━\u001b[0m\u001b[37m\u001b[0m \u001b[1m1s\u001b[0m 3ms/step - MeanAbsoluteError: 1.1133 - loss: 3.6778\n",
            "Epoch 30/50\n",
            "\u001b[1m189/189\u001b[0m \u001b[32m━━━━━━━━━━━━━━━━━━━━\u001b[0m\u001b[37m\u001b[0m \u001b[1m1s\u001b[0m 3ms/step - MeanAbsoluteError: 0.9999 - loss: 4.2013\n",
            "Epoch 31/50\n",
            "\u001b[1m189/189\u001b[0m \u001b[32m━━━━━━━━━━━━━━━━━━━━\u001b[0m\u001b[37m\u001b[0m \u001b[1m1s\u001b[0m 3ms/step - MeanAbsoluteError: 1.0827 - loss: 3.5091\n",
            "Epoch 32/50\n",
            "\u001b[1m189/189\u001b[0m \u001b[32m━━━━━━━━━━━━━━━━━━━━\u001b[0m\u001b[37m\u001b[0m \u001b[1m1s\u001b[0m 3ms/step - MeanAbsoluteError: 0.9031 - loss: 3.0753\n",
            "Epoch 33/50\n",
            "\u001b[1m189/189\u001b[0m \u001b[32m━━━━━━━━━━━━━━━━━━━━\u001b[0m\u001b[37m\u001b[0m \u001b[1m1s\u001b[0m 3ms/step - MeanAbsoluteError: 0.9065 - loss: 3.2542\n",
            "Epoch 34/50\n",
            "\u001b[1m189/189\u001b[0m \u001b[32m━━━━━━━━━━━━━━━━━━━━\u001b[0m\u001b[37m\u001b[0m \u001b[1m1s\u001b[0m 5ms/step - MeanAbsoluteError: 0.9478 - loss: 3.1771\n",
            "Epoch 35/50\n",
            "\u001b[1m189/189\u001b[0m \u001b[32m━━━━━━━━━━━━━━━━━━━━\u001b[0m\u001b[37m\u001b[0m \u001b[1m1s\u001b[0m 5ms/step - MeanAbsoluteError: 0.9862 - loss: 3.4090\n",
            "Epoch 36/50\n",
            "\u001b[1m189/189\u001b[0m \u001b[32m━━━━━━━━━━━━━━━━━━━━\u001b[0m\u001b[37m\u001b[0m \u001b[1m1s\u001b[0m 5ms/step - MeanAbsoluteError: 0.9830 - loss: 3.2627\n",
            "Epoch 37/50\n",
            "\u001b[1m189/189\u001b[0m \u001b[32m━━━━━━━━━━━━━━━━━━━━\u001b[0m\u001b[37m\u001b[0m \u001b[1m1s\u001b[0m 3ms/step - MeanAbsoluteError: 1.0506 - loss: 3.7794\n",
            "Epoch 38/50\n",
            "\u001b[1m189/189\u001b[0m \u001b[32m━━━━━━━━━━━━━━━━━━━━\u001b[0m\u001b[37m\u001b[0m \u001b[1m1s\u001b[0m 3ms/step - MeanAbsoluteError: 1.0374 - loss: 3.6676\n",
            "Epoch 39/50\n",
            "\u001b[1m189/189\u001b[0m \u001b[32m━━━━━━━━━━━━━━━━━━━━\u001b[0m\u001b[37m\u001b[0m \u001b[1m1s\u001b[0m 3ms/step - MeanAbsoluteError: 0.9391 - loss: 3.2658\n",
            "Epoch 40/50\n",
            "\u001b[1m189/189\u001b[0m \u001b[32m━━━━━━━━━━━━━━━━━━━━\u001b[0m\u001b[37m\u001b[0m \u001b[1m1s\u001b[0m 3ms/step - MeanAbsoluteError: 0.8038 - loss: 2.5474\n",
            "Epoch 41/50\n",
            "\u001b[1m189/189\u001b[0m \u001b[32m━━━━━━━━━━━━━━━━━━━━\u001b[0m\u001b[37m\u001b[0m \u001b[1m1s\u001b[0m 3ms/step - MeanAbsoluteError: 1.0095 - loss: 3.4099\n",
            "Epoch 42/50\n",
            "\u001b[1m189/189\u001b[0m \u001b[32m━━━━━━━━━━━━━━━━━━━━\u001b[0m\u001b[37m\u001b[0m \u001b[1m1s\u001b[0m 3ms/step - MeanAbsoluteError: 0.9813 - loss: 2.9921\n",
            "Epoch 43/50\n",
            "\u001b[1m189/189\u001b[0m \u001b[32m━━━━━━━━━━━━━━━━━━━━\u001b[0m\u001b[37m\u001b[0m \u001b[1m1s\u001b[0m 3ms/step - MeanAbsoluteError: 0.9968 - loss: 3.3345\n",
            "Epoch 44/50\n",
            "\u001b[1m189/189\u001b[0m \u001b[32m━━━━━━━━━━━━━━━━━━━━\u001b[0m\u001b[37m\u001b[0m \u001b[1m1s\u001b[0m 3ms/step - MeanAbsoluteError: 0.8388 - loss: 2.7833\n",
            "Epoch 45/50\n",
            "\u001b[1m189/189\u001b[0m \u001b[32m━━━━━━━━━━━━━━━━━━━━\u001b[0m\u001b[37m\u001b[0m \u001b[1m1s\u001b[0m 3ms/step - MeanAbsoluteError: 1.0433 - loss: 3.4145\n",
            "Epoch 46/50\n",
            "\u001b[1m189/189\u001b[0m \u001b[32m━━━━━━━━━━━━━━━━━━━━\u001b[0m\u001b[37m\u001b[0m \u001b[1m1s\u001b[0m 3ms/step - MeanAbsoluteError: 0.9934 - loss: 3.0795\n",
            "Epoch 47/50\n",
            "\u001b[1m189/189\u001b[0m \u001b[32m━━━━━━━━━━━━━━━━━━━━\u001b[0m\u001b[37m\u001b[0m \u001b[1m1s\u001b[0m 3ms/step - MeanAbsoluteError: 0.9846 - loss: 3.0725\n",
            "Epoch 48/50\n",
            "\u001b[1m189/189\u001b[0m \u001b[32m━━━━━━━━━━━━━━━━━━━━\u001b[0m\u001b[37m\u001b[0m \u001b[1m1s\u001b[0m 3ms/step - MeanAbsoluteError: 0.8797 - loss: 2.9862\n",
            "Epoch 49/50\n",
            "\u001b[1m189/189\u001b[0m \u001b[32m━━━━━━━━━━━━━━━━━━━━\u001b[0m\u001b[37m\u001b[0m \u001b[1m1s\u001b[0m 3ms/step - MeanAbsoluteError: 0.9727 - loss: 3.3200\n",
            "Epoch 50/50\n",
            "\u001b[1m189/189\u001b[0m \u001b[32m━━━━━━━━━━━━━━━━━━━━\u001b[0m\u001b[37m\u001b[0m \u001b[1m1s\u001b[0m 3ms/step - MeanAbsoluteError: 1.0471 - loss: 3.2499\n"
          ]
        },
        {
          "output_type": "execute_result",
          "data": {
            "text/plain": [
              "<keras.src.callbacks.history.History at 0x7aaf2c7310f0>"
            ]
          },
          "metadata": {},
          "execution_count": 60
        }
      ]
    },
    {
      "cell_type": "code",
      "source": [
        "prediction = model.predict(dataTest3)"
      ],
      "metadata": {
        "colab": {
          "base_uri": "https://localhost:8080/"
        },
        "id": "WCVYclDzfENd",
        "outputId": "358c1659-d4cb-47bc-8bd5-92e1a8c47358"
      },
      "execution_count": 86,
      "outputs": [
        {
          "output_type": "stream",
          "name": "stdout",
          "text": [
            "\u001b[1m124/124\u001b[0m \u001b[32m━━━━━━━━━━━━━━━━━━━━\u001b[0m\u001b[37m\u001b[0m \u001b[1m0s\u001b[0m 1ms/step\n"
          ]
        }
      ]
    },
    {
      "cell_type": "code",
      "source": [
        "plotPred = []\n",
        "for i in range(len(prediction)):\n",
        "  plotPred.append(prediction[i][0][0])\n",
        "plotVal = []\n",
        "for i in range(len(valueTest3)):\n",
        "  plotVal.append(valueTest3[i][0][0])"
      ],
      "metadata": {
        "id": "QU0_hjzqfSK1"
      },
      "execution_count": 87,
      "outputs": []
    },
    {
      "cell_type": "code",
      "source": [
        "import matplotlib.pyplot as plt\n",
        "\n",
        "plt.figure(figsize=(8, 6))\n",
        "plt.plot(plotVal, label='Actual Data', marker='o', linestyle='--')\n",
        "plt.plot(plotPred, label='Predicted Data', marker='x', linestyle='-')\n",
        "\n",
        "# Add labels and legend\n",
        "plt.title('Actual vs Predicted Values')\n",
        "plt.xlabel('Data Points')\n",
        "plt.ylabel('Values')\n",
        "plt.legend()\n",
        "plt.grid(True)\n",
        "\n",
        "# Show the plot\n",
        "plt.show()"
      ],
      "metadata": {
        "colab": {
          "base_uri": "https://localhost:8080/",
          "height": 564
        },
        "id": "QJJzhHkhfUuv",
        "outputId": "58396b91-d6a0-4dd4-b3cc-bd874fa0535a"
      },
      "execution_count": 88,
      "outputs": [
        {
          "output_type": "display_data",
          "data": {
            "text/plain": [
              "<Figure size 800x600 with 1 Axes>"
            ],
            "image/png": "[encoded data removed]"
          },
          "metadata": {}
        }
      ]
    },
    {
      "cell_type": "code",
      "source": [
        "model.save('/content/TenDayAverageModel.keras')"
      ],
      "metadata": {
        "id": "Zm5QAvDmfcIg"
      },
      "execution_count": 34,
      "outputs": []
    },
    {
      "cell_type": "code",
      "source": [],
      "metadata": {
        "id": "KMB3Zdm8fokQ"
      },
      "execution_count": null,
      "outputs": []
    }
  ]
}